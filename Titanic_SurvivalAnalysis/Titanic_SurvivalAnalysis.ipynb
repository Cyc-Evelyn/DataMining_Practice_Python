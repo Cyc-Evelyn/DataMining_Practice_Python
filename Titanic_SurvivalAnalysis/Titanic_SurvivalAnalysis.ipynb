{
  "nbformat": 4,
  "nbformat_minor": 0,
  "metadata": {
    "kernelspec": {
      "display_name": "Python 3",
      "language": "python",
      "name": "python3"
    },
    "language_info": {
      "codemirror_mode": {
        "name": "ipython",
        "version": 3
      },
      "file_extension": ".py",
      "mimetype": "text/x-python",
      "name": "python",
      "nbconvert_exporter": "python",
      "pygments_lexer": "ipython3",
      "version": "3.7.4"
    },
    "colab": {
      "name": "「2020.07.04_HW0_Titanic_張育菁.ipynb」的副本",
      "provenance": [],
      "collapsed_sections": [
        "2AQipzV_fd-I"
      ],
      "toc_visible": true
    }
  },
  "cells": [
    {
      "cell_type": "markdown",
      "metadata": {
        "id": "_jg3GnVhfOZ1"
      },
      "source": [
        "#分析鐵達尼生還關鍵因素"
      ]
    },
    {
      "cell_type": "code",
      "metadata": {
        "id": "vWuE5muZKoXP",
        "colab": {
          "base_uri": "https://localhost:8080/",
          "height": 72
        },
        "outputId": "a178c653-9dbe-4966-e43f-ed2e7ab38ba4"
      },
      "source": [
        "#導入函數集\n",
        "import numpy as np\n",
        "import pandas as pd\n",
        "import pandas.util.testing as tm\n",
        "import pandas_profiling\n",
        "from pprint import pprint\n",
        "\n",
        "import matplotlib.pyplot as plt\n",
        "import seaborn as sns\n",
        "\n",
        "from sklearn.discriminant_analysis import LinearDiscriminantAnalysis, QuadraticDiscriminantAnalysis\n",
        "from sklearn.ensemble import RandomForestClassifier, GradientBoostingClassifier, VotingClassifier\n",
        "from sklearn.ensemble import AdaBoostClassifier, BaggingClassifier, ExtraTreesClassifier\n",
        "\n",
        "from sklearn.metrics import accuracy_score, classification_report, confusion_matrix, log_loss\n",
        "from sklearn.model_selection import train_test_split, GridSearchCV, cross_val_score, StratifiedKFold, learning_curve\n",
        "from sklearn.naive_bayes import GaussianNB\n",
        "from sklearn.neighbors import KNeighborsClassifier\n",
        "from sklearn.svm import SVC, LinearSVC, NuSVC\n",
        "from sklearn.tree import DecisionTreeClassifier\n",
        "from sklearn.neural_network import MLPClassifier\n",
        "from sklearn.linear_model import LogisticRegression,SGDClassifier\n",
        "from sklearn.tree import DecisionTreeClassifier"
      ],
      "execution_count": null,
      "outputs": [
        {
          "output_type": "stream",
          "text": [
            "/usr/local/lib/python3.6/dist-packages/ipykernel_launcher.py:8: FutureWarning: pandas.util.testing is deprecated. Use the functions in the public API at pandas.testing instead.\n",
            "  \n"
          ],
          "name": "stderr"
        }
      ]
    },
    {
      "cell_type": "code",
      "metadata": {
        "id": "v7-VGxjUKoXS",
        "colab": {
          "base_uri": "https://localhost:8080/",
          "height": 200
        },
        "outputId": "f6ea14d1-f8d8-4657-ba12-bcab90bfbf84"
      },
      "source": [
        "#導入數據並確認數據\n",
        "train_data = pd.read_csv('train.csv')\n",
        "test_data = pd.read_csv('test.csv')\n",
        "train_data.head()"
      ],
      "execution_count": null,
      "outputs": [
        {
          "output_type": "execute_result",
          "data": {
            "text/html": [
              "<div>\n",
              "<style scoped>\n",
              "    .dataframe tbody tr th:only-of-type {\n",
              "        vertical-align: middle;\n",
              "    }\n",
              "\n",
              "    .dataframe tbody tr th {\n",
              "        vertical-align: top;\n",
              "    }\n",
              "\n",
              "    .dataframe thead th {\n",
              "        text-align: right;\n",
              "    }\n",
              "</style>\n",
              "<table border=\"1\" class=\"dataframe\">\n",
              "  <thead>\n",
              "    <tr style=\"text-align: right;\">\n",
              "      <th></th>\n",
              "      <th>PassengerId</th>\n",
              "      <th>Survived</th>\n",
              "      <th>Pclass</th>\n",
              "      <th>Name</th>\n",
              "      <th>Sex</th>\n",
              "      <th>Age</th>\n",
              "      <th>SibSp</th>\n",
              "      <th>Parch</th>\n",
              "      <th>Ticket</th>\n",
              "      <th>Fare</th>\n",
              "      <th>Cabin</th>\n",
              "      <th>Embarked</th>\n",
              "    </tr>\n",
              "  </thead>\n",
              "  <tbody>\n",
              "    <tr>\n",
              "      <th>0</th>\n",
              "      <td>1</td>\n",
              "      <td>0</td>\n",
              "      <td>3</td>\n",
              "      <td>Braund, Mr. Owen Harris</td>\n",
              "      <td>male</td>\n",
              "      <td>22.0</td>\n",
              "      <td>1</td>\n",
              "      <td>0</td>\n",
              "      <td>A/5 21171</td>\n",
              "      <td>7.2500</td>\n",
              "      <td>NaN</td>\n",
              "      <td>S</td>\n",
              "    </tr>\n",
              "    <tr>\n",
              "      <th>1</th>\n",
              "      <td>2</td>\n",
              "      <td>1</td>\n",
              "      <td>1</td>\n",
              "      <td>Cumings, Mrs. John Bradley (Florence Briggs Th...</td>\n",
              "      <td>female</td>\n",
              "      <td>38.0</td>\n",
              "      <td>1</td>\n",
              "      <td>0</td>\n",
              "      <td>PC 17599</td>\n",
              "      <td>71.2833</td>\n",
              "      <td>C85</td>\n",
              "      <td>C</td>\n",
              "    </tr>\n",
              "    <tr>\n",
              "      <th>2</th>\n",
              "      <td>3</td>\n",
              "      <td>1</td>\n",
              "      <td>3</td>\n",
              "      <td>Heikkinen, Miss. Laina</td>\n",
              "      <td>female</td>\n",
              "      <td>26.0</td>\n",
              "      <td>0</td>\n",
              "      <td>0</td>\n",
              "      <td>STON/O2. 3101282</td>\n",
              "      <td>7.9250</td>\n",
              "      <td>NaN</td>\n",
              "      <td>S</td>\n",
              "    </tr>\n",
              "    <tr>\n",
              "      <th>3</th>\n",
              "      <td>4</td>\n",
              "      <td>1</td>\n",
              "      <td>1</td>\n",
              "      <td>Futrelle, Mrs. Jacques Heath (Lily May Peel)</td>\n",
              "      <td>female</td>\n",
              "      <td>35.0</td>\n",
              "      <td>1</td>\n",
              "      <td>0</td>\n",
              "      <td>113803</td>\n",
              "      <td>53.1000</td>\n",
              "      <td>C123</td>\n",
              "      <td>S</td>\n",
              "    </tr>\n",
              "    <tr>\n",
              "      <th>4</th>\n",
              "      <td>5</td>\n",
              "      <td>0</td>\n",
              "      <td>3</td>\n",
              "      <td>Allen, Mr. William Henry</td>\n",
              "      <td>male</td>\n",
              "      <td>35.0</td>\n",
              "      <td>0</td>\n",
              "      <td>0</td>\n",
              "      <td>373450</td>\n",
              "      <td>8.0500</td>\n",
              "      <td>NaN</td>\n",
              "      <td>S</td>\n",
              "    </tr>\n",
              "  </tbody>\n",
              "</table>\n",
              "</div>"
            ],
            "text/plain": [
              "   PassengerId  Survived  Pclass  ...     Fare Cabin  Embarked\n",
              "0            1         0       3  ...   7.2500   NaN         S\n",
              "1            2         1       1  ...  71.2833   C85         C\n",
              "2            3         1       3  ...   7.9250   NaN         S\n",
              "3            4         1       1  ...  53.1000  C123         S\n",
              "4            5         0       3  ...   8.0500   NaN         S\n",
              "\n",
              "[5 rows x 12 columns]"
            ]
          },
          "metadata": {
            "tags": []
          },
          "execution_count": 2
        }
      ]
    },
    {
      "cell_type": "code",
      "metadata": {
        "id": "qo7yjiavKoXW",
        "colab": {
          "base_uri": "https://localhost:8080/",
          "height": 159
        },
        "outputId": "4b62c5f5-7760-4f15-bcdd-9b5b8e255ff1"
      },
      "source": [
        "'''\n",
        "填補缺值\n",
        "'''\n",
        "#建構缺失值的表格自訂函數---get_missing_values\n",
        "#並使用函數分別查看訓練與測試缺失值數量分布\n",
        "def get_missing_values(df):\n",
        "    #使用isnull找缺失值並以sum加總共缺幾個值\n",
        "    #以缺失值大小遞增排序\n",
        "    values = df.isnull().sum().sort_values()\n",
        "    #使用DataFrame建構表格\n",
        "    data = pd.DataFrame(values, columns=['Total missing values'])\n",
        "    #axis=1或columns按照指定索引中數值排序(預設為0,按照列中數值排序)\n",
        "    data = data[data.values.sum(axis=1) > 0]\n",
        "\n",
        "    return data\n",
        "    \n",
        "print(get_missing_values(train_data))\n",
        "print(get_missing_values(test_data))"
      ],
      "execution_count": null,
      "outputs": [
        {
          "output_type": "stream",
          "text": [
            "          Total missing values\n",
            "Embarked                     2\n",
            "Age                        177\n",
            "Cabin                      687\n",
            "       Total missing values\n",
            "Fare                      1\n",
            "Age                      86\n",
            "Cabin                   327\n"
          ],
          "name": "stdout"
        }
      ]
    },
    {
      "cell_type": "code",
      "metadata": {
        "id": "Xb-JyzdHKoXY",
        "colab": {
          "base_uri": "https://localhost:8080/",
          "height": 200
        },
        "outputId": "55e6e10c-92a3-4dac-8a05-57dd87d79150"
      },
      "source": [
        "#合併訓練與測試資料一起填補缺失值\n",
        "#step1:合併資料並查看\n",
        "combined_df = train_data.append(test_data, ignore_index=True, sort=True)#忽略舊的index欄位,並排序\n",
        "get_missing_values(combined_df)"
      ],
      "execution_count": null,
      "outputs": [
        {
          "output_type": "execute_result",
          "data": {
            "text/html": [
              "<div>\n",
              "<style scoped>\n",
              "    .dataframe tbody tr th:only-of-type {\n",
              "        vertical-align: middle;\n",
              "    }\n",
              "\n",
              "    .dataframe tbody tr th {\n",
              "        vertical-align: top;\n",
              "    }\n",
              "\n",
              "    .dataframe thead th {\n",
              "        text-align: right;\n",
              "    }\n",
              "</style>\n",
              "<table border=\"1\" class=\"dataframe\">\n",
              "  <thead>\n",
              "    <tr style=\"text-align: right;\">\n",
              "      <th></th>\n",
              "      <th>Total missing values</th>\n",
              "    </tr>\n",
              "  </thead>\n",
              "  <tbody>\n",
              "    <tr>\n",
              "      <th>Fare</th>\n",
              "      <td>1</td>\n",
              "    </tr>\n",
              "    <tr>\n",
              "      <th>Embarked</th>\n",
              "      <td>2</td>\n",
              "    </tr>\n",
              "    <tr>\n",
              "      <th>Age</th>\n",
              "      <td>263</td>\n",
              "    </tr>\n",
              "    <tr>\n",
              "      <th>Survived</th>\n",
              "      <td>418</td>\n",
              "    </tr>\n",
              "    <tr>\n",
              "      <th>Cabin</th>\n",
              "      <td>1014</td>\n",
              "    </tr>\n",
              "  </tbody>\n",
              "</table>\n",
              "</div>"
            ],
            "text/plain": [
              "          Total missing values\n",
              "Fare                         1\n",
              "Embarked                     2\n",
              "Age                        263\n",
              "Survived                   418\n",
              "Cabin                     1014"
            ]
          },
          "metadata": {
            "tags": []
          },
          "execution_count": 4
        }
      ]
    },
    {
      "cell_type": "code",
      "metadata": {
        "id": "_Ge1xqCvKoXa",
        "colab": {
          "base_uri": "https://localhost:8080/",
          "height": 170
        },
        "outputId": "84bb483b-8eb6-431f-cabe-bfc81a3664ba"
      },
      "source": [
        "#一一查看缺失值細項並用不同方式填值\n",
        "#1:Embarked出發地\n",
        "#建構顯示細項的表格自訂函數---values\n",
        "def values(df, feature_name):\n",
        "    return pd.DataFrame(df[feature_name].value_counts(dropna=False))\n",
        "values(combined_df, 'Embarked')\n",
        "#僅有2筆缺失值,可使用眾數填補(也就是S)"
      ],
      "execution_count": null,
      "outputs": [
        {
          "output_type": "execute_result",
          "data": {
            "text/html": [
              "<div>\n",
              "<style scoped>\n",
              "    .dataframe tbody tr th:only-of-type {\n",
              "        vertical-align: middle;\n",
              "    }\n",
              "\n",
              "    .dataframe tbody tr th {\n",
              "        vertical-align: top;\n",
              "    }\n",
              "\n",
              "    .dataframe thead th {\n",
              "        text-align: right;\n",
              "    }\n",
              "</style>\n",
              "<table border=\"1\" class=\"dataframe\">\n",
              "  <thead>\n",
              "    <tr style=\"text-align: right;\">\n",
              "      <th></th>\n",
              "      <th>Embarked</th>\n",
              "    </tr>\n",
              "  </thead>\n",
              "  <tbody>\n",
              "    <tr>\n",
              "      <th>S</th>\n",
              "      <td>914</td>\n",
              "    </tr>\n",
              "    <tr>\n",
              "      <th>C</th>\n",
              "      <td>270</td>\n",
              "    </tr>\n",
              "    <tr>\n",
              "      <th>Q</th>\n",
              "      <td>123</td>\n",
              "    </tr>\n",
              "    <tr>\n",
              "      <th>NaN</th>\n",
              "      <td>2</td>\n",
              "    </tr>\n",
              "  </tbody>\n",
              "</table>\n",
              "</div>"
            ],
            "text/plain": [
              "     Embarked\n",
              "S         914\n",
              "C         270\n",
              "Q         123\n",
              "NaN         2"
            ]
          },
          "metadata": {
            "tags": []
          },
          "execution_count": 5
        }
      ]
    },
    {
      "cell_type": "code",
      "metadata": {
        "id": "J1lgn4g_KoXd"
      },
      "source": [
        "#查看缺失Embarked的資料詳情並填補\n",
        "combined_df[combined_df['Embarked'].isnull()] #查看\n",
        "combined_df['Embarked'].fillna('S', inplace=True) \n",
        "#使用fillna(value='填補值')填補\n",
        "#inplace為是否在原資料上操作,True則以新資料替換舊資料(預設為False)"
      ],
      "execution_count": null,
      "outputs": []
    },
    {
      "cell_type": "code",
      "metadata": {
        "id": "XwtrKVj5KoXh",
        "colab": {
          "base_uri": "https://localhost:8080/",
          "height": 372
        },
        "outputId": "ea9e4f14-6071-4a94-f4b4-4863393c94b9"
      },
      "source": [
        "#2:Fare票價\n",
        "#查看缺失Fare的資料詳情並填補\n",
        "combined_df[combined_df['Fare'].isnull()]\n",
        "#僅有1筆缺失值,以均值填補\n",
        "#step1:查看各出發地不同艙等/性別下的票價均值\n",
        "combined_df.groupby(['Embarked', 'Pclass', 'Sex'])['Fare'].mean()"
      ],
      "execution_count": null,
      "outputs": [
        {
          "output_type": "execute_result",
          "data": {
            "text/plain": [
              "Embarked  Pclass  Sex   \n",
              "C         1       female    118.895949\n",
              "                  male       94.622560\n",
              "          2       female     27.003791\n",
              "                  male       20.904406\n",
              "          3       female     13.834545\n",
              "                  male        9.775901\n",
              "Q         1       female     90.000000\n",
              "                  male       90.000000\n",
              "          2       female     12.350000\n",
              "                  male       11.489160\n",
              "          3       female      9.791968\n",
              "                  male       10.979167\n",
              "S         1       female    100.475648\n",
              "                  male       53.670756\n",
              "          2       female     23.023118\n",
              "                  male       20.073322\n",
              "          3       female     18.083851\n",
              "                  male       13.145977\n",
              "Name: Fare, dtype: float64"
            ]
          },
          "metadata": {
            "tags": []
          },
          "execution_count": 7
        }
      ]
    },
    {
      "cell_type": "code",
      "metadata": {
        "id": "xDy-7-NUKoXj"
      },
      "source": [
        "#續補值\n",
        "#2:Fare票價\n",
        "#step2:缺失值特徵為在S上船搭乘P3艙等的男性,均值13.14\n",
        "combined_df['Fare'].fillna(13.14, inplace=True)"
      ],
      "execution_count": null,
      "outputs": []
    },
    {
      "cell_type": "code",
      "metadata": {
        "id": "tGg6eWycKoXl",
        "colab": {
          "base_uri": "https://localhost:8080/",
          "height": 411
        },
        "outputId": "f4faba30-dacd-423f-f861-d626e4c7d81b"
      },
      "source": [
        "#3:Cabin機艙位\n",
        "combined_df[combined_df[\"Cabin\"].notnull()]\n",
        "#查看內容\n",
        "#開頭皆為不同類別的字母,意義為deck(甲板位置)可以此分類"
      ],
      "execution_count": null,
      "outputs": [
        {
          "output_type": "execute_result",
          "data": {
            "text/html": [
              "<div>\n",
              "<style scoped>\n",
              "    .dataframe tbody tr th:only-of-type {\n",
              "        vertical-align: middle;\n",
              "    }\n",
              "\n",
              "    .dataframe tbody tr th {\n",
              "        vertical-align: top;\n",
              "    }\n",
              "\n",
              "    .dataframe thead th {\n",
              "        text-align: right;\n",
              "    }\n",
              "</style>\n",
              "<table border=\"1\" class=\"dataframe\">\n",
              "  <thead>\n",
              "    <tr style=\"text-align: right;\">\n",
              "      <th></th>\n",
              "      <th>Age</th>\n",
              "      <th>Cabin</th>\n",
              "      <th>Embarked</th>\n",
              "      <th>Fare</th>\n",
              "      <th>Name</th>\n",
              "      <th>Parch</th>\n",
              "      <th>PassengerId</th>\n",
              "      <th>Pclass</th>\n",
              "      <th>Sex</th>\n",
              "      <th>SibSp</th>\n",
              "      <th>Survived</th>\n",
              "      <th>Ticket</th>\n",
              "    </tr>\n",
              "  </thead>\n",
              "  <tbody>\n",
              "    <tr>\n",
              "      <th>1</th>\n",
              "      <td>38.0</td>\n",
              "      <td>C85</td>\n",
              "      <td>C</td>\n",
              "      <td>71.2833</td>\n",
              "      <td>Cumings, Mrs. John Bradley (Florence Briggs Th...</td>\n",
              "      <td>0</td>\n",
              "      <td>2</td>\n",
              "      <td>1</td>\n",
              "      <td>female</td>\n",
              "      <td>1</td>\n",
              "      <td>1.0</td>\n",
              "      <td>PC 17599</td>\n",
              "    </tr>\n",
              "    <tr>\n",
              "      <th>3</th>\n",
              "      <td>35.0</td>\n",
              "      <td>C123</td>\n",
              "      <td>S</td>\n",
              "      <td>53.1000</td>\n",
              "      <td>Futrelle, Mrs. Jacques Heath (Lily May Peel)</td>\n",
              "      <td>0</td>\n",
              "      <td>4</td>\n",
              "      <td>1</td>\n",
              "      <td>female</td>\n",
              "      <td>1</td>\n",
              "      <td>1.0</td>\n",
              "      <td>113803</td>\n",
              "    </tr>\n",
              "    <tr>\n",
              "      <th>6</th>\n",
              "      <td>54.0</td>\n",
              "      <td>E46</td>\n",
              "      <td>S</td>\n",
              "      <td>51.8625</td>\n",
              "      <td>McCarthy, Mr. Timothy J</td>\n",
              "      <td>0</td>\n",
              "      <td>7</td>\n",
              "      <td>1</td>\n",
              "      <td>male</td>\n",
              "      <td>0</td>\n",
              "      <td>0.0</td>\n",
              "      <td>17463</td>\n",
              "    </tr>\n",
              "    <tr>\n",
              "      <th>10</th>\n",
              "      <td>4.0</td>\n",
              "      <td>G6</td>\n",
              "      <td>S</td>\n",
              "      <td>16.7000</td>\n",
              "      <td>Sandstrom, Miss. Marguerite Rut</td>\n",
              "      <td>1</td>\n",
              "      <td>11</td>\n",
              "      <td>3</td>\n",
              "      <td>female</td>\n",
              "      <td>1</td>\n",
              "      <td>1.0</td>\n",
              "      <td>PP 9549</td>\n",
              "    </tr>\n",
              "    <tr>\n",
              "      <th>11</th>\n",
              "      <td>58.0</td>\n",
              "      <td>C103</td>\n",
              "      <td>S</td>\n",
              "      <td>26.5500</td>\n",
              "      <td>Bonnell, Miss. Elizabeth</td>\n",
              "      <td>0</td>\n",
              "      <td>12</td>\n",
              "      <td>1</td>\n",
              "      <td>female</td>\n",
              "      <td>0</td>\n",
              "      <td>1.0</td>\n",
              "      <td>113783</td>\n",
              "    </tr>\n",
              "    <tr>\n",
              "      <th>...</th>\n",
              "      <td>...</td>\n",
              "      <td>...</td>\n",
              "      <td>...</td>\n",
              "      <td>...</td>\n",
              "      <td>...</td>\n",
              "      <td>...</td>\n",
              "      <td>...</td>\n",
              "      <td>...</td>\n",
              "      <td>...</td>\n",
              "      <td>...</td>\n",
              "      <td>...</td>\n",
              "      <td>...</td>\n",
              "    </tr>\n",
              "    <tr>\n",
              "      <th>1295</th>\n",
              "      <td>43.0</td>\n",
              "      <td>D40</td>\n",
              "      <td>C</td>\n",
              "      <td>27.7208</td>\n",
              "      <td>Frauenthal, Mr. Isaac Gerald</td>\n",
              "      <td>0</td>\n",
              "      <td>1296</td>\n",
              "      <td>1</td>\n",
              "      <td>male</td>\n",
              "      <td>1</td>\n",
              "      <td>NaN</td>\n",
              "      <td>17765</td>\n",
              "    </tr>\n",
              "    <tr>\n",
              "      <th>1296</th>\n",
              "      <td>20.0</td>\n",
              "      <td>D38</td>\n",
              "      <td>C</td>\n",
              "      <td>13.8625</td>\n",
              "      <td>Nourney, Mr. Alfred (Baron von Drachstedt\")\"</td>\n",
              "      <td>0</td>\n",
              "      <td>1297</td>\n",
              "      <td>2</td>\n",
              "      <td>male</td>\n",
              "      <td>0</td>\n",
              "      <td>NaN</td>\n",
              "      <td>SC/PARIS 2166</td>\n",
              "    </tr>\n",
              "    <tr>\n",
              "      <th>1298</th>\n",
              "      <td>50.0</td>\n",
              "      <td>C80</td>\n",
              "      <td>C</td>\n",
              "      <td>211.5000</td>\n",
              "      <td>Widener, Mr. George Dunton</td>\n",
              "      <td>1</td>\n",
              "      <td>1299</td>\n",
              "      <td>1</td>\n",
              "      <td>male</td>\n",
              "      <td>1</td>\n",
              "      <td>NaN</td>\n",
              "      <td>113503</td>\n",
              "    </tr>\n",
              "    <tr>\n",
              "      <th>1302</th>\n",
              "      <td>37.0</td>\n",
              "      <td>C78</td>\n",
              "      <td>Q</td>\n",
              "      <td>90.0000</td>\n",
              "      <td>Minahan, Mrs. William Edward (Lillian E Thorpe)</td>\n",
              "      <td>0</td>\n",
              "      <td>1303</td>\n",
              "      <td>1</td>\n",
              "      <td>female</td>\n",
              "      <td>1</td>\n",
              "      <td>NaN</td>\n",
              "      <td>19928</td>\n",
              "    </tr>\n",
              "    <tr>\n",
              "      <th>1305</th>\n",
              "      <td>39.0</td>\n",
              "      <td>C105</td>\n",
              "      <td>C</td>\n",
              "      <td>108.9000</td>\n",
              "      <td>Oliva y Ocana, Dona. Fermina</td>\n",
              "      <td>0</td>\n",
              "      <td>1306</td>\n",
              "      <td>1</td>\n",
              "      <td>female</td>\n",
              "      <td>0</td>\n",
              "      <td>NaN</td>\n",
              "      <td>PC 17758</td>\n",
              "    </tr>\n",
              "  </tbody>\n",
              "</table>\n",
              "<p>295 rows × 12 columns</p>\n",
              "</div>"
            ],
            "text/plain": [
              "       Age Cabin Embarked      Fare  ...     Sex  SibSp  Survived         Ticket\n",
              "1     38.0   C85        C   71.2833  ...  female      1       1.0       PC 17599\n",
              "3     35.0  C123        S   53.1000  ...  female      1       1.0         113803\n",
              "6     54.0   E46        S   51.8625  ...    male      0       0.0          17463\n",
              "10     4.0    G6        S   16.7000  ...  female      1       1.0        PP 9549\n",
              "11    58.0  C103        S   26.5500  ...  female      0       1.0         113783\n",
              "...    ...   ...      ...       ...  ...     ...    ...       ...            ...\n",
              "1295  43.0   D40        C   27.7208  ...    male      1       NaN          17765\n",
              "1296  20.0   D38        C   13.8625  ...    male      0       NaN  SC/PARIS 2166\n",
              "1298  50.0   C80        C  211.5000  ...    male      1       NaN         113503\n",
              "1302  37.0   C78        Q   90.0000  ...  female      1       NaN          19928\n",
              "1305  39.0  C105        C  108.9000  ...  female      0       NaN       PC 17758\n",
              "\n",
              "[295 rows x 12 columns]"
            ]
          },
          "metadata": {
            "tags": []
          },
          "execution_count": 9
        }
      ]
    },
    {
      "cell_type": "code",
      "metadata": {
        "id": "h09h9rvqKoXm",
        "colab": {
          "base_uri": "https://localhost:8080/",
          "height": 411
        },
        "outputId": "4aa2b3c8-9381-42ab-ad2b-3375043b0162"
      },
      "source": [
        "#以Cabin特徵定義Deck\n",
        "combined_df['Deck'] = combined_df['Cabin'].str[:1]\n",
        "combined_df[combined_df[\"Deck\"].notnull()]"
      ],
      "execution_count": null,
      "outputs": [
        {
          "output_type": "execute_result",
          "data": {
            "text/html": [
              "<div>\n",
              "<style scoped>\n",
              "    .dataframe tbody tr th:only-of-type {\n",
              "        vertical-align: middle;\n",
              "    }\n",
              "\n",
              "    .dataframe tbody tr th {\n",
              "        vertical-align: top;\n",
              "    }\n",
              "\n",
              "    .dataframe thead th {\n",
              "        text-align: right;\n",
              "    }\n",
              "</style>\n",
              "<table border=\"1\" class=\"dataframe\">\n",
              "  <thead>\n",
              "    <tr style=\"text-align: right;\">\n",
              "      <th></th>\n",
              "      <th>Age</th>\n",
              "      <th>Cabin</th>\n",
              "      <th>Embarked</th>\n",
              "      <th>Fare</th>\n",
              "      <th>Name</th>\n",
              "      <th>Parch</th>\n",
              "      <th>PassengerId</th>\n",
              "      <th>Pclass</th>\n",
              "      <th>Sex</th>\n",
              "      <th>SibSp</th>\n",
              "      <th>Survived</th>\n",
              "      <th>Ticket</th>\n",
              "      <th>Deck</th>\n",
              "    </tr>\n",
              "  </thead>\n",
              "  <tbody>\n",
              "    <tr>\n",
              "      <th>1</th>\n",
              "      <td>38.0</td>\n",
              "      <td>C85</td>\n",
              "      <td>C</td>\n",
              "      <td>71.2833</td>\n",
              "      <td>Cumings, Mrs. John Bradley (Florence Briggs Th...</td>\n",
              "      <td>0</td>\n",
              "      <td>2</td>\n",
              "      <td>1</td>\n",
              "      <td>female</td>\n",
              "      <td>1</td>\n",
              "      <td>1.0</td>\n",
              "      <td>PC 17599</td>\n",
              "      <td>C</td>\n",
              "    </tr>\n",
              "    <tr>\n",
              "      <th>3</th>\n",
              "      <td>35.0</td>\n",
              "      <td>C123</td>\n",
              "      <td>S</td>\n",
              "      <td>53.1000</td>\n",
              "      <td>Futrelle, Mrs. Jacques Heath (Lily May Peel)</td>\n",
              "      <td>0</td>\n",
              "      <td>4</td>\n",
              "      <td>1</td>\n",
              "      <td>female</td>\n",
              "      <td>1</td>\n",
              "      <td>1.0</td>\n",
              "      <td>113803</td>\n",
              "      <td>C</td>\n",
              "    </tr>\n",
              "    <tr>\n",
              "      <th>6</th>\n",
              "      <td>54.0</td>\n",
              "      <td>E46</td>\n",
              "      <td>S</td>\n",
              "      <td>51.8625</td>\n",
              "      <td>McCarthy, Mr. Timothy J</td>\n",
              "      <td>0</td>\n",
              "      <td>7</td>\n",
              "      <td>1</td>\n",
              "      <td>male</td>\n",
              "      <td>0</td>\n",
              "      <td>0.0</td>\n",
              "      <td>17463</td>\n",
              "      <td>E</td>\n",
              "    </tr>\n",
              "    <tr>\n",
              "      <th>10</th>\n",
              "      <td>4.0</td>\n",
              "      <td>G6</td>\n",
              "      <td>S</td>\n",
              "      <td>16.7000</td>\n",
              "      <td>Sandstrom, Miss. Marguerite Rut</td>\n",
              "      <td>1</td>\n",
              "      <td>11</td>\n",
              "      <td>3</td>\n",
              "      <td>female</td>\n",
              "      <td>1</td>\n",
              "      <td>1.0</td>\n",
              "      <td>PP 9549</td>\n",
              "      <td>G</td>\n",
              "    </tr>\n",
              "    <tr>\n",
              "      <th>11</th>\n",
              "      <td>58.0</td>\n",
              "      <td>C103</td>\n",
              "      <td>S</td>\n",
              "      <td>26.5500</td>\n",
              "      <td>Bonnell, Miss. Elizabeth</td>\n",
              "      <td>0</td>\n",
              "      <td>12</td>\n",
              "      <td>1</td>\n",
              "      <td>female</td>\n",
              "      <td>0</td>\n",
              "      <td>1.0</td>\n",
              "      <td>113783</td>\n",
              "      <td>C</td>\n",
              "    </tr>\n",
              "    <tr>\n",
              "      <th>...</th>\n",
              "      <td>...</td>\n",
              "      <td>...</td>\n",
              "      <td>...</td>\n",
              "      <td>...</td>\n",
              "      <td>...</td>\n",
              "      <td>...</td>\n",
              "      <td>...</td>\n",
              "      <td>...</td>\n",
              "      <td>...</td>\n",
              "      <td>...</td>\n",
              "      <td>...</td>\n",
              "      <td>...</td>\n",
              "      <td>...</td>\n",
              "    </tr>\n",
              "    <tr>\n",
              "      <th>1295</th>\n",
              "      <td>43.0</td>\n",
              "      <td>D40</td>\n",
              "      <td>C</td>\n",
              "      <td>27.7208</td>\n",
              "      <td>Frauenthal, Mr. Isaac Gerald</td>\n",
              "      <td>0</td>\n",
              "      <td>1296</td>\n",
              "      <td>1</td>\n",
              "      <td>male</td>\n",
              "      <td>1</td>\n",
              "      <td>NaN</td>\n",
              "      <td>17765</td>\n",
              "      <td>D</td>\n",
              "    </tr>\n",
              "    <tr>\n",
              "      <th>1296</th>\n",
              "      <td>20.0</td>\n",
              "      <td>D38</td>\n",
              "      <td>C</td>\n",
              "      <td>13.8625</td>\n",
              "      <td>Nourney, Mr. Alfred (Baron von Drachstedt\")\"</td>\n",
              "      <td>0</td>\n",
              "      <td>1297</td>\n",
              "      <td>2</td>\n",
              "      <td>male</td>\n",
              "      <td>0</td>\n",
              "      <td>NaN</td>\n",
              "      <td>SC/PARIS 2166</td>\n",
              "      <td>D</td>\n",
              "    </tr>\n",
              "    <tr>\n",
              "      <th>1298</th>\n",
              "      <td>50.0</td>\n",
              "      <td>C80</td>\n",
              "      <td>C</td>\n",
              "      <td>211.5000</td>\n",
              "      <td>Widener, Mr. George Dunton</td>\n",
              "      <td>1</td>\n",
              "      <td>1299</td>\n",
              "      <td>1</td>\n",
              "      <td>male</td>\n",
              "      <td>1</td>\n",
              "      <td>NaN</td>\n",
              "      <td>113503</td>\n",
              "      <td>C</td>\n",
              "    </tr>\n",
              "    <tr>\n",
              "      <th>1302</th>\n",
              "      <td>37.0</td>\n",
              "      <td>C78</td>\n",
              "      <td>Q</td>\n",
              "      <td>90.0000</td>\n",
              "      <td>Minahan, Mrs. William Edward (Lillian E Thorpe)</td>\n",
              "      <td>0</td>\n",
              "      <td>1303</td>\n",
              "      <td>1</td>\n",
              "      <td>female</td>\n",
              "      <td>1</td>\n",
              "      <td>NaN</td>\n",
              "      <td>19928</td>\n",
              "      <td>C</td>\n",
              "    </tr>\n",
              "    <tr>\n",
              "      <th>1305</th>\n",
              "      <td>39.0</td>\n",
              "      <td>C105</td>\n",
              "      <td>C</td>\n",
              "      <td>108.9000</td>\n",
              "      <td>Oliva y Ocana, Dona. Fermina</td>\n",
              "      <td>0</td>\n",
              "      <td>1306</td>\n",
              "      <td>1</td>\n",
              "      <td>female</td>\n",
              "      <td>0</td>\n",
              "      <td>NaN</td>\n",
              "      <td>PC 17758</td>\n",
              "      <td>C</td>\n",
              "    </tr>\n",
              "  </tbody>\n",
              "</table>\n",
              "<p>295 rows × 13 columns</p>\n",
              "</div>"
            ],
            "text/plain": [
              "       Age Cabin Embarked      Fare  ... SibSp  Survived         Ticket  Deck\n",
              "1     38.0   C85        C   71.2833  ...     1       1.0       PC 17599     C\n",
              "3     35.0  C123        S   53.1000  ...     1       1.0         113803     C\n",
              "6     54.0   E46        S   51.8625  ...     0       0.0          17463     E\n",
              "10     4.0    G6        S   16.7000  ...     1       1.0        PP 9549     G\n",
              "11    58.0  C103        S   26.5500  ...     0       1.0         113783     C\n",
              "...    ...   ...      ...       ...  ...   ...       ...            ...   ...\n",
              "1295  43.0   D40        C   27.7208  ...     1       NaN          17765     D\n",
              "1296  20.0   D38        C   13.8625  ...     0       NaN  SC/PARIS 2166     D\n",
              "1298  50.0   C80        C  211.5000  ...     1       NaN         113503     C\n",
              "1302  37.0   C78        Q   90.0000  ...     1       NaN          19928     C\n",
              "1305  39.0  C105        C  108.9000  ...     0       NaN       PC 17758     C\n",
              "\n",
              "[295 rows x 13 columns]"
            ]
          },
          "metadata": {
            "tags": []
          },
          "execution_count": 10
        }
      ]
    },
    {
      "cell_type": "code",
      "metadata": {
        "id": "9piZZtwdKoXo"
      },
      "source": [
        "#將缺失值的Deck資料設為M\n",
        "combined_df['Deck'].fillna('M', inplace=True)"
      ],
      "execution_count": null,
      "outputs": []
    },
    {
      "cell_type": "code",
      "metadata": {
        "id": "TvhglGdCKoXq",
        "colab": {
          "base_uri": "https://localhost:8080/",
          "height": 321
        },
        "outputId": "3e2b611d-71cf-486a-c39a-7ec0037f1fea"
      },
      "source": [
        "#以表格觀察缺失值數量\n",
        "values(combined_df, 'Deck')\n",
        "#Deck中缺失值很大,需要使用別的方法填值"
      ],
      "execution_count": null,
      "outputs": [
        {
          "output_type": "execute_result",
          "data": {
            "text/html": [
              "<div>\n",
              "<style scoped>\n",
              "    .dataframe tbody tr th:only-of-type {\n",
              "        vertical-align: middle;\n",
              "    }\n",
              "\n",
              "    .dataframe tbody tr th {\n",
              "        vertical-align: top;\n",
              "    }\n",
              "\n",
              "    .dataframe thead th {\n",
              "        text-align: right;\n",
              "    }\n",
              "</style>\n",
              "<table border=\"1\" class=\"dataframe\">\n",
              "  <thead>\n",
              "    <tr style=\"text-align: right;\">\n",
              "      <th></th>\n",
              "      <th>Deck</th>\n",
              "    </tr>\n",
              "  </thead>\n",
              "  <tbody>\n",
              "    <tr>\n",
              "      <th>M</th>\n",
              "      <td>1014</td>\n",
              "    </tr>\n",
              "    <tr>\n",
              "      <th>C</th>\n",
              "      <td>94</td>\n",
              "    </tr>\n",
              "    <tr>\n",
              "      <th>B</th>\n",
              "      <td>65</td>\n",
              "    </tr>\n",
              "    <tr>\n",
              "      <th>D</th>\n",
              "      <td>46</td>\n",
              "    </tr>\n",
              "    <tr>\n",
              "      <th>E</th>\n",
              "      <td>41</td>\n",
              "    </tr>\n",
              "    <tr>\n",
              "      <th>A</th>\n",
              "      <td>22</td>\n",
              "    </tr>\n",
              "    <tr>\n",
              "      <th>F</th>\n",
              "      <td>21</td>\n",
              "    </tr>\n",
              "    <tr>\n",
              "      <th>G</th>\n",
              "      <td>5</td>\n",
              "    </tr>\n",
              "    <tr>\n",
              "      <th>T</th>\n",
              "      <td>1</td>\n",
              "    </tr>\n",
              "  </tbody>\n",
              "</table>\n",
              "</div>"
            ],
            "text/plain": [
              "   Deck\n",
              "M  1014\n",
              "C    94\n",
              "B    65\n",
              "D    46\n",
              "E    41\n",
              "A    22\n",
              "F    21\n",
              "G     5\n",
              "T     1"
            ]
          },
          "metadata": {
            "tags": []
          },
          "execution_count": 12
        }
      ]
    },
    {
      "cell_type": "code",
      "metadata": {
        "id": "LoaqK9nFKoXs",
        "colab": {
          "base_uri": "https://localhost:8080/",
          "height": 295
        },
        "outputId": "d249057c-fd1c-40dd-ff04-5fe82d33ac41"
      },
      "source": [
        "#觀察艙等與甲板位置的分布關係\n",
        "g = combined_df.groupby('Deck')['Pclass'].value_counts(normalize=True).unstack()\n",
        "g.plot(kind='bar', stacked='True', figsize=(10,4) ).legend(bbox_to_anchor=(1, 0.5), title=\"Pclass\")\n",
        "#可觀察出1艙等的乘客多集中在A/B/C甲板\n",
        "#3等艙乘客多集中在F/G/M甲板(而G甲板內只有3等艙乘客)"
      ],
      "execution_count": null,
      "outputs": [
        {
          "output_type": "execute_result",
          "data": {
            "text/plain": [
              "<matplotlib.legend.Legend at 0x7f53a73e95c0>"
            ]
          },
          "metadata": {
            "tags": []
          },
          "execution_count": 13
        },
        {
          "output_type": "display_data",
          "data": {
            "image/png": "[encoded data removed]",
            "text/plain": [
              "<Figure size 720x288 with 1 Axes>"
            ]
          },
          "metadata": {
            "tags": [],
            "needs_background": "light"
          }
        }
      ]
    },
    {
      "cell_type": "code",
      "metadata": {
        "id": "AY9CDET0KoXt",
        "colab": {
          "base_uri": "https://localhost:8080/",
          "height": 596
        },
        "outputId": "8b7f17a4-18f6-4336-95e8-e369e746fbb9"
      },
      "source": [
        "#票價/艙等/甲板分布一起觀察\n",
        "g = sns.catplot(y='Fare', x='Deck', hue='Pclass', data=combined_df, kind='box', height=10, aspect=2)\n",
        "g.fig.set_figwidth(12)\n",
        "g.fig.set_figheight(8)"
      ],
      "execution_count": null,
      "outputs": [
        {
          "output_type": "display_data",
          "data": {
            "image/png": "[encoded data removed]",
            "text/plain": [
              "<Figure size 864x576 with 1 Axes>"
            ]
          },
          "metadata": {
            "tags": [],
            "needs_background": "light"
          }
        }
      ]
    },
    {
      "cell_type": "code",
      "metadata": {
        "id": "J06T0Y4GKoXv",
        "colab": {
          "base_uri": "https://localhost:8080/",
          "height": 596
        },
        "outputId": "4f2674ce-79e0-4f00-f19e-ae618c8b312a"
      },
      "source": [
        "#票價/出發地/甲板分布一起觀察\n",
        "g = sns.catplot(y='Fare', x='Deck', hue='Embarked', data=combined_df, kind='box', height=10, aspect=2)\n",
        "g.fig.set_figwidth(12)\n",
        "g.fig.set_figheight(8)\n",
        "\n",
        "#可觀察出有明顯的差別分布狀況,藉由這幾個變數很有機會清楚的推斷甲板位置"
      ],
      "execution_count": null,
      "outputs": [
        {
          "output_type": "display_data",
          "data": {
            "image/png": "[encoded data removed]",
            "text/plain": [
              "<Figure size 864x576 with 1 Axes>"
            ]
          },
          "metadata": {
            "tags": [],
            "needs_background": "light"
          }
        }
      ]
    },
    {
      "cell_type": "code",
      "metadata": {
        "id": "3V-tCfgEKoXx",
        "colab": {
          "base_uri": "https://localhost:8080/",
          "height": 1000
        },
        "outputId": "45a3f7e7-99a1-4df7-ddbd-9cbf0b61d9f5"
      },
      "source": [
        "#手動設立篩選條件並 顯示各艙等的甲板位置人數分布的均值\n",
        "print(' ---- Pclass 1 ---- ')\n",
        "print(' ** Embarked : S ** ')\n",
        "print(combined_df[(combined_df['Pclass']==1) & (combined_df['Embarked']=='S') & (combined_df['Deck']!='M')].groupby(['Deck'])['Fare'].mean().sort_values())\n",
        "print('')\n",
        "print(' ** Embarked : C ** ')\n",
        "print(combined_df[(combined_df['Pclass']==1) & (combined_df['Embarked']=='C') & (combined_df['Deck']!='M')].groupby(['Deck'])['Fare'].mean().sort_values())\n",
        "print('')\n",
        "print(' ** Embarked : Q ** ')\n",
        "print(combined_df[(combined_df['Pclass']==1) & (combined_df['Embarked']=='Q') & (combined_df['Deck']!='M')].groupby(['Deck'])['Fare'].mean().sort_values())\n",
        "print('')\n",
        "print('')\n",
        "print(' ---- Pclass 2 ---- ')\n",
        "print(' ** Embarked : S ** ')\n",
        "print(combined_df[(combined_df['Pclass']==2) & (combined_df['Embarked']=='S') & (combined_df['Deck']!='M')].groupby(['Deck'])['Fare'].mean().sort_values())\n",
        "print('')\n",
        "print(' ** Embarked : C ** ')\n",
        "print(combined_df[(combined_df['Pclass']==2) & (combined_df['Embarked']=='C') & (combined_df['Deck']!='M')].groupby(['Deck'])['Fare'].mean().sort_values())\n",
        "print('')\n",
        "print(' ** Embarked : Q ** ')\n",
        "print(combined_df[(combined_df['Pclass']==2) & (combined_df['Embarked']=='Q') & (combined_df['Deck']!='M')].groupby(['Deck'])['Fare'].mean().sort_values())\n",
        "print('')\n",
        "print('')\n",
        "print(' ---- Pclass 3 ---- ')\n",
        "print('** Embarked : S ** ')\n",
        "print(combined_df[(combined_df['Pclass']==3) & (combined_df['Embarked']=='S') & (combined_df['Deck']!='M')].groupby(['Deck'])['Fare'].mean().sort_values())\n",
        "print('')\n",
        "print(' ** Embarked : C ** ')\n",
        "print(combined_df[(combined_df['Pclass']==3) & (combined_df['Embarked']=='C') & (combined_df['Deck']!='M')].groupby(['Deck'])['Fare'].mean().sort_values())\n",
        "print('')\n",
        "print(' ** Embarked : Q ** ')\n",
        "print(combined_df[(combined_df['Pclass']==3) & (combined_df['Embarked']=='Q') & (combined_df['Deck']!='M')].groupby(['Deck'])['Fare'].mean().sort_values())"
      ],
      "execution_count": null,
      "outputs": [
        {
          "output_type": "stream",
          "text": [
            " ---- Pclass 1 ---- \n",
            " ** Embarked : S ** \n",
            "Deck\n",
            "T     35.500000\n",
            "E     46.435326\n",
            "A     47.279155\n",
            "D     47.707292\n",
            "B     78.671088\n",
            "C    110.369588\n",
            "Name: Fare, dtype: float64\n",
            "\n",
            " ** Embarked : C ** \n",
            "Deck\n",
            "A     35.209473\n",
            "D     75.736725\n",
            "E     99.071591\n",
            "C    106.259044\n",
            "B    167.461069\n",
            "Name: Fare, dtype: float64\n",
            "\n",
            " ** Embarked : Q ** \n",
            "Deck\n",
            "C    90.0\n",
            "Name: Fare, dtype: float64\n",
            "\n",
            "\n",
            " ---- Pclass 2 ---- \n",
            " ** Embarked : S ** \n",
            "Deck\n",
            "E    11.333333\n",
            "D    13.000000\n",
            "F    23.423077\n",
            "Name: Fare, dtype: float64\n",
            "\n",
            " ** Embarked : C ** \n",
            "Deck\n",
            "D    13.89375\n",
            "Name: Fare, dtype: float64\n",
            "\n",
            " ** Embarked : Q ** \n",
            "Deck\n",
            "E    12.35\n",
            "Name: Fare, dtype: float64\n",
            "\n",
            "\n",
            " ---- Pclass 3 ---- \n",
            "** Embarked : S ** \n",
            "Deck\n",
            "F     7.650\n",
            "E    11.000\n",
            "G    14.205\n",
            "Name: Fare, dtype: float64\n",
            "\n",
            " ** Embarked : C ** \n",
            "Deck\n",
            "F    12.272233\n",
            "Name: Fare, dtype: float64\n",
            "\n",
            " ** Embarked : Q ** \n",
            "Deck\n",
            "F    7.75\n",
            "Name: Fare, dtype: float64\n"
          ],
          "name": "stdout"
        }
      ]
    },
    {
      "cell_type": "code",
      "metadata": {
        "id": "YvuRYT3lKoXy"
      },
      "source": [
        "#定義一個函數填補缺失值(使用list篩選並填均值)\n",
        "def fill_deck(df):\n",
        "    temp = []\n",
        "    temp_deck = ''\n",
        "    #由上述艙等>出發地>票價填補甲板位置\n",
        "    for idx in range(len(df)):\n",
        "        temp_deck = df.iloc[idx]['Deck']\n",
        "        if df.iloc[idx]['Deck'] == 'M':\n",
        "            if df['Pclass'].iloc[idx] == 1:\n",
        "                if df['Embarked'].iloc[idx] == 'S':\n",
        "                    if df['Fare'].iloc[idx] < 35.5:\n",
        "                        temp_deck = 'T'\n",
        "\n",
        "                    elif df['Fare'].iloc[idx] >= 35.50 and df['Fare'].iloc[idx] < 46.43:\n",
        "                        temp_deck = 'E'\n",
        "\n",
        "                    elif df['Fare'].iloc[idx] >= 46.43 and df['Fare'].iloc[idx] < 47.27:\n",
        "                        temp_deck = 'A'\n",
        "\n",
        "                    elif df['Fare'].iloc[idx] >= 47.27 and df['Fare'].iloc[idx] < 47.70:\n",
        "                        temp_deck = 'D'\n",
        "\n",
        "                    elif df['Fare'].iloc[idx] >= 47.70 and df['Fare'].iloc[idx] < 78.67:\n",
        "                        temp_deck = 'B'\n",
        "\n",
        "                    else:\n",
        "                        temp_deck = 'C'\n",
        "\n",
        "                elif df['Embarked'].iloc[idx] == 'C':\n",
        "                    if df['Fare'].iloc[idx] < 35.20:\n",
        "                        temp_deck = 'A'\n",
        "\n",
        "                    elif df['Fare'].iloc[idx] >= 35.20 and df['Fare'].iloc[idx] < 75.73:\n",
        "                        temp_deck = 'D'\n",
        "\n",
        "                    elif df['Fare'].iloc[idx] >= 75.73 and df['Fare'].iloc[idx] < 99.07:\n",
        "                        temp_deck = 'E'\n",
        "\n",
        "                    elif df['Fare'].iloc[idx] >= 99.07 and df['Fare'].iloc[idx] < 106.25:\n",
        "                        temp_deck = 'C'\n",
        "\n",
        "                    else:\n",
        "                        temp_deck = 'B'\n",
        "\n",
        "                elif df['Embarked'].iloc[idx] == 'Q':\n",
        "                    temp_deck = 'C'\n",
        "\n",
        "            elif df['Pclass'].iloc[idx] == 2:\n",
        "                if df['Embarked'].iloc[idx] == 'S':\n",
        "                    if df['Fare'].iloc[idx] < 11.33:\n",
        "                        temp_deck = 'E'\n",
        "\n",
        "                    elif df['Fare'].iloc[idx] >= 11.33 and df['Fare'].iloc[idx] < 13:\n",
        "                        temp_deck = 'D'\n",
        "\n",
        "                    else:\n",
        "                        temp_deck = 'F'\n",
        "\n",
        "                elif df['Embarked'].iloc[idx] == 'C':\n",
        "                    temp_deck = 'D'\n",
        "\n",
        "                elif df['Embarked'].iloc[idx] == 'Q':\n",
        "                    temp_deck = 'E'\n",
        "\n",
        "            elif df['Pclass'].iloc[idx] == 3:\n",
        "                if df['Embarked'].iloc[idx] == 'S':\n",
        "                    if df['Fare'].iloc[idx] < 7.60:\n",
        "                        temp_deck = 'F'\n",
        "\n",
        "                    elif df['Fare'].iloc[idx] >= 7.60 and df['Fare'].iloc[idx] < 11:\n",
        "                        temp_deck = 'E'\n",
        "\n",
        "                    else:\n",
        "                        temp_deck = 'G'\n",
        "\n",
        "                else:\n",
        "                    temp_deck = 'F'\n",
        "\n",
        "        temp.append(temp_deck)\n",
        "    df['Deck'] = temp\n",
        "\n",
        "\n",
        "fill_deck(combined_df) "
      ],
      "execution_count": null,
      "outputs": []
    },
    {
      "cell_type": "code",
      "metadata": {
        "id": "rmrz8JonKoX1",
        "colab": {
          "base_uri": "https://localhost:8080/",
          "height": 550
        },
        "outputId": "78f6d62a-389f-4ced-e112-061e04dc74a7"
      },
      "source": [
        "#4:Age年齡\n",
        "#一開始的表格顯示有263個缺失值\n",
        "#年齡若使用均值填補,會有失準確度 (票價均值的意義為區段區分,年齡則會造成大偏誤)\n",
        "#查看相關資訊以用更好的方式填值\n",
        "combined_df[\"Name\"].to_list()[:30]\n",
        "#是否可用稱謂判斷年齡"
      ],
      "execution_count": null,
      "outputs": [
        {
          "output_type": "execute_result",
          "data": {
            "text/plain": [
              "['Braund, Mr. Owen Harris',\n",
              " 'Cumings, Mrs. John Bradley (Florence Briggs Thayer)',\n",
              " 'Heikkinen, Miss. Laina',\n",
              " 'Futrelle, Mrs. Jacques Heath (Lily May Peel)',\n",
              " 'Allen, Mr. William Henry',\n",
              " 'Moran, Mr. James',\n",
              " 'McCarthy, Mr. Timothy J',\n",
              " 'Palsson, Master. Gosta Leonard',\n",
              " 'Johnson, Mrs. Oscar W (Elisabeth Vilhelmina Berg)',\n",
              " 'Nasser, Mrs. Nicholas (Adele Achem)',\n",
              " 'Sandstrom, Miss. Marguerite Rut',\n",
              " 'Bonnell, Miss. Elizabeth',\n",
              " 'Saundercock, Mr. William Henry',\n",
              " 'Andersson, Mr. Anders Johan',\n",
              " 'Vestrom, Miss. Hulda Amanda Adolfina',\n",
              " 'Hewlett, Mrs. (Mary D Kingcome) ',\n",
              " 'Rice, Master. Eugene',\n",
              " 'Williams, Mr. Charles Eugene',\n",
              " 'Vander Planke, Mrs. Julius (Emelia Maria Vandemoortele)',\n",
              " 'Masselmani, Mrs. Fatima',\n",
              " 'Fynney, Mr. Joseph J',\n",
              " 'Beesley, Mr. Lawrence',\n",
              " 'McGowan, Miss. Anna \"Annie\"',\n",
              " 'Sloper, Mr. William Thompson',\n",
              " 'Palsson, Miss. Torborg Danira',\n",
              " 'Asplund, Mrs. Carl Oscar (Selma Augusta Emilia Johansson)',\n",
              " 'Emir, Mr. Farred Chehab',\n",
              " 'Fortune, Mr. Charles Alexander',\n",
              " 'O\\'Dwyer, Miss. Ellen \"Nellie\"',\n",
              " 'Todoroff, Mr. Lalio']"
            ]
          },
          "metadata": {
            "tags": []
          },
          "execution_count": 18
        }
      ]
    },
    {
      "cell_type": "code",
      "metadata": {
        "id": "WLqpm1E0KoX2",
        "colab": {
          "base_uri": "https://localhost:8080/",
          "height": 200
        },
        "outputId": "d5b22bc0-532d-4655-a27c-8afba3413521"
      },
      "source": [
        "#增加稱號欄位方便未來判斷年齡 \n",
        "combined_df['Title'] = ''\n",
        "for _ in combined_df:\n",
        "    combined_df['Title'] = combined_df['Name'].str.extract('([A-Za-z]+)\\.')\n",
        " #使用str.extract取第一個找到的值,同時以上面的訊可觀察出稱謂皆以'.'結尾,由於順序關係只會取到稱謂\n",
        "\n",
        "combined_df.head()"
      ],
      "execution_count": null,
      "outputs": [
        {
          "output_type": "execute_result",
          "data": {
            "text/html": [
              "<div>\n",
              "<style scoped>\n",
              "    .dataframe tbody tr th:only-of-type {\n",
              "        vertical-align: middle;\n",
              "    }\n",
              "\n",
              "    .dataframe tbody tr th {\n",
              "        vertical-align: top;\n",
              "    }\n",
              "\n",
              "    .dataframe thead th {\n",
              "        text-align: right;\n",
              "    }\n",
              "</style>\n",
              "<table border=\"1\" class=\"dataframe\">\n",
              "  <thead>\n",
              "    <tr style=\"text-align: right;\">\n",
              "      <th></th>\n",
              "      <th>Age</th>\n",
              "      <th>Cabin</th>\n",
              "      <th>Embarked</th>\n",
              "      <th>Fare</th>\n",
              "      <th>Name</th>\n",
              "      <th>Parch</th>\n",
              "      <th>PassengerId</th>\n",
              "      <th>Pclass</th>\n",
              "      <th>Sex</th>\n",
              "      <th>SibSp</th>\n",
              "      <th>Survived</th>\n",
              "      <th>Ticket</th>\n",
              "      <th>Deck</th>\n",
              "      <th>Title</th>\n",
              "    </tr>\n",
              "  </thead>\n",
              "  <tbody>\n",
              "    <tr>\n",
              "      <th>0</th>\n",
              "      <td>22.0</td>\n",
              "      <td>NaN</td>\n",
              "      <td>S</td>\n",
              "      <td>7.2500</td>\n",
              "      <td>Braund, Mr. Owen Harris</td>\n",
              "      <td>0</td>\n",
              "      <td>1</td>\n",
              "      <td>3</td>\n",
              "      <td>male</td>\n",
              "      <td>1</td>\n",
              "      <td>0.0</td>\n",
              "      <td>A/5 21171</td>\n",
              "      <td>F</td>\n",
              "      <td>Mr</td>\n",
              "    </tr>\n",
              "    <tr>\n",
              "      <th>1</th>\n",
              "      <td>38.0</td>\n",
              "      <td>C85</td>\n",
              "      <td>C</td>\n",
              "      <td>71.2833</td>\n",
              "      <td>Cumings, Mrs. John Bradley (Florence Briggs Th...</td>\n",
              "      <td>0</td>\n",
              "      <td>2</td>\n",
              "      <td>1</td>\n",
              "      <td>female</td>\n",
              "      <td>1</td>\n",
              "      <td>1.0</td>\n",
              "      <td>PC 17599</td>\n",
              "      <td>C</td>\n",
              "      <td>Mrs</td>\n",
              "    </tr>\n",
              "    <tr>\n",
              "      <th>2</th>\n",
              "      <td>26.0</td>\n",
              "      <td>NaN</td>\n",
              "      <td>S</td>\n",
              "      <td>7.9250</td>\n",
              "      <td>Heikkinen, Miss. Laina</td>\n",
              "      <td>0</td>\n",
              "      <td>3</td>\n",
              "      <td>3</td>\n",
              "      <td>female</td>\n",
              "      <td>0</td>\n",
              "      <td>1.0</td>\n",
              "      <td>STON/O2. 3101282</td>\n",
              "      <td>E</td>\n",
              "      <td>Miss</td>\n",
              "    </tr>\n",
              "    <tr>\n",
              "      <th>3</th>\n",
              "      <td>35.0</td>\n",
              "      <td>C123</td>\n",
              "      <td>S</td>\n",
              "      <td>53.1000</td>\n",
              "      <td>Futrelle, Mrs. Jacques Heath (Lily May Peel)</td>\n",
              "      <td>0</td>\n",
              "      <td>4</td>\n",
              "      <td>1</td>\n",
              "      <td>female</td>\n",
              "      <td>1</td>\n",
              "      <td>1.0</td>\n",
              "      <td>113803</td>\n",
              "      <td>C</td>\n",
              "      <td>Mrs</td>\n",
              "    </tr>\n",
              "    <tr>\n",
              "      <th>4</th>\n",
              "      <td>35.0</td>\n",
              "      <td>NaN</td>\n",
              "      <td>S</td>\n",
              "      <td>8.0500</td>\n",
              "      <td>Allen, Mr. William Henry</td>\n",
              "      <td>0</td>\n",
              "      <td>5</td>\n",
              "      <td>3</td>\n",
              "      <td>male</td>\n",
              "      <td>0</td>\n",
              "      <td>0.0</td>\n",
              "      <td>373450</td>\n",
              "      <td>E</td>\n",
              "      <td>Mr</td>\n",
              "    </tr>\n",
              "  </tbody>\n",
              "</table>\n",
              "</div>"
            ],
            "text/plain": [
              "    Age Cabin Embarked     Fare  ... Survived            Ticket  Deck  Title\n",
              "0  22.0   NaN        S   7.2500  ...      0.0         A/5 21171     F     Mr\n",
              "1  38.0   C85        C  71.2833  ...      1.0          PC 17599     C    Mrs\n",
              "2  26.0   NaN        S   7.9250  ...      1.0  STON/O2. 3101282     E   Miss\n",
              "3  35.0  C123        S  53.1000  ...      1.0            113803     C    Mrs\n",
              "4  35.0   NaN        S   8.0500  ...      0.0            373450     E     Mr\n",
              "\n",
              "[5 rows x 14 columns]"
            ]
          },
          "metadata": {
            "tags": []
          },
          "execution_count": 19
        }
      ]
    },
    {
      "cell_type": "code",
      "metadata": {
        "id": "ssmh24lBKoX8",
        "colab": {
          "base_uri": "https://localhost:8080/",
          "height": 139
        },
        "outputId": "24c9413b-c641-4e04-cbd4-886e7c04cfc9"
      },
      "source": [
        "#概覽稱謂分布\n",
        "pd.crosstab(combined_df[\"Title\"], combined_df[\"Sex\"]).T\n",
        "#可看出有四大種稱謂為大宗"
      ],
      "execution_count": null,
      "outputs": [
        {
          "output_type": "execute_result",
          "data": {
            "text/html": [
              "<div>\n",
              "<style scoped>\n",
              "    .dataframe tbody tr th:only-of-type {\n",
              "        vertical-align: middle;\n",
              "    }\n",
              "\n",
              "    .dataframe tbody tr th {\n",
              "        vertical-align: top;\n",
              "    }\n",
              "\n",
              "    .dataframe thead th {\n",
              "        text-align: right;\n",
              "    }\n",
              "</style>\n",
              "<table border=\"1\" class=\"dataframe\">\n",
              "  <thead>\n",
              "    <tr style=\"text-align: right;\">\n",
              "      <th>Title</th>\n",
              "      <th>Capt</th>\n",
              "      <th>Col</th>\n",
              "      <th>Countess</th>\n",
              "      <th>Don</th>\n",
              "      <th>Dona</th>\n",
              "      <th>Dr</th>\n",
              "      <th>Jonkheer</th>\n",
              "      <th>Lady</th>\n",
              "      <th>Major</th>\n",
              "      <th>Master</th>\n",
              "      <th>Miss</th>\n",
              "      <th>Mlle</th>\n",
              "      <th>Mme</th>\n",
              "      <th>Mr</th>\n",
              "      <th>Mrs</th>\n",
              "      <th>Ms</th>\n",
              "      <th>Rev</th>\n",
              "      <th>Sir</th>\n",
              "    </tr>\n",
              "    <tr>\n",
              "      <th>Sex</th>\n",
              "      <th></th>\n",
              "      <th></th>\n",
              "      <th></th>\n",
              "      <th></th>\n",
              "      <th></th>\n",
              "      <th></th>\n",
              "      <th></th>\n",
              "      <th></th>\n",
              "      <th></th>\n",
              "      <th></th>\n",
              "      <th></th>\n",
              "      <th></th>\n",
              "      <th></th>\n",
              "      <th></th>\n",
              "      <th></th>\n",
              "      <th></th>\n",
              "      <th></th>\n",
              "      <th></th>\n",
              "    </tr>\n",
              "  </thead>\n",
              "  <tbody>\n",
              "    <tr>\n",
              "      <th>female</th>\n",
              "      <td>0</td>\n",
              "      <td>0</td>\n",
              "      <td>1</td>\n",
              "      <td>0</td>\n",
              "      <td>1</td>\n",
              "      <td>1</td>\n",
              "      <td>0</td>\n",
              "      <td>1</td>\n",
              "      <td>0</td>\n",
              "      <td>0</td>\n",
              "      <td>260</td>\n",
              "      <td>2</td>\n",
              "      <td>1</td>\n",
              "      <td>0</td>\n",
              "      <td>197</td>\n",
              "      <td>2</td>\n",
              "      <td>0</td>\n",
              "      <td>0</td>\n",
              "    </tr>\n",
              "    <tr>\n",
              "      <th>male</th>\n",
              "      <td>1</td>\n",
              "      <td>4</td>\n",
              "      <td>0</td>\n",
              "      <td>1</td>\n",
              "      <td>0</td>\n",
              "      <td>7</td>\n",
              "      <td>1</td>\n",
              "      <td>0</td>\n",
              "      <td>2</td>\n",
              "      <td>61</td>\n",
              "      <td>0</td>\n",
              "      <td>0</td>\n",
              "      <td>0</td>\n",
              "      <td>757</td>\n",
              "      <td>0</td>\n",
              "      <td>0</td>\n",
              "      <td>8</td>\n",
              "      <td>1</td>\n",
              "    </tr>\n",
              "  </tbody>\n",
              "</table>\n",
              "</div>"
            ],
            "text/plain": [
              "Title   Capt  Col  Countess  Don  Dona  Dr  ...  Mme   Mr  Mrs  Ms  Rev  Sir\n",
              "Sex                                         ...                             \n",
              "female     0    0         1    0     1   1  ...    1    0  197   2    0    0\n",
              "male       1    4         0    1     0   7  ...    0  757    0   0    8    1\n",
              "\n",
              "[2 rows x 18 columns]"
            ]
          },
          "metadata": {
            "tags": []
          },
          "execution_count": 20
        }
      ]
    },
    {
      "cell_type": "code",
      "metadata": {
        "id": "5DiiVnsEKoX_"
      },
      "source": [
        "#清除極端值\n",
        "#除了Master,Miss,Mr,Mrs(還有近義詞 Lady,Mlle,Mme,Ms)外皆以Rare替代\n",
        "combined_df[\"Title\"].replace(\n",
        "    ['Capt', 'Col','Countess','Don', 'Dona', 'Dr', 'Jonkheer', 'Major', 'Rev', 'Sir', 'Dona'], 'Rare'\n",
        ", inplace = True)"
      ],
      "execution_count": null,
      "outputs": []
    },
    {
      "cell_type": "code",
      "metadata": {
        "id": "w5rbiC7kKoYA",
        "colab": {
          "base_uri": "https://localhost:8080/",
          "height": 139
        },
        "outputId": "4da61029-0ca9-49a3-8199-6b4139424d15"
      },
      "source": [
        "#查看稱謂與生還率的關係\n",
        "#填補 Lady,Mlle,Mme,Ms\n",
        "combined_df['Title'].replace(\n",
        "    ['Lady', 'Mlle', 'Mme', 'Ms'],\n",
        "    ['Mrs', 'Miss', 'Miss', 'Mrs'],inplace=True)\n",
        "pd.crosstab(combined_df[\"Title\"], combined_df[\"Survived\"]).T"
      ],
      "execution_count": null,
      "outputs": [
        {
          "output_type": "execute_result",
          "data": {
            "text/html": [
              "<div>\n",
              "<style scoped>\n",
              "    .dataframe tbody tr th:only-of-type {\n",
              "        vertical-align: middle;\n",
              "    }\n",
              "\n",
              "    .dataframe tbody tr th {\n",
              "        vertical-align: top;\n",
              "    }\n",
              "\n",
              "    .dataframe thead th {\n",
              "        text-align: right;\n",
              "    }\n",
              "</style>\n",
              "<table border=\"1\" class=\"dataframe\">\n",
              "  <thead>\n",
              "    <tr style=\"text-align: right;\">\n",
              "      <th>Title</th>\n",
              "      <th>Master</th>\n",
              "      <th>Miss</th>\n",
              "      <th>Mr</th>\n",
              "      <th>Mrs</th>\n",
              "      <th>Rare</th>\n",
              "    </tr>\n",
              "    <tr>\n",
              "      <th>Survived</th>\n",
              "      <th></th>\n",
              "      <th></th>\n",
              "      <th></th>\n",
              "      <th></th>\n",
              "      <th></th>\n",
              "    </tr>\n",
              "  </thead>\n",
              "  <tbody>\n",
              "    <tr>\n",
              "      <th>0.0</th>\n",
              "      <td>17</td>\n",
              "      <td>55</td>\n",
              "      <td>436</td>\n",
              "      <td>26</td>\n",
              "      <td>15</td>\n",
              "    </tr>\n",
              "    <tr>\n",
              "      <th>1.0</th>\n",
              "      <td>23</td>\n",
              "      <td>130</td>\n",
              "      <td>81</td>\n",
              "      <td>101</td>\n",
              "      <td>7</td>\n",
              "    </tr>\n",
              "  </tbody>\n",
              "</table>\n",
              "</div>"
            ],
            "text/plain": [
              "Title     Master  Miss   Mr  Mrs  Rare\n",
              "Survived                              \n",
              "0.0           17    55  436   26    15\n",
              "1.0           23   130   81  101     7"
            ]
          },
          "metadata": {
            "tags": []
          },
          "execution_count": 22
        }
      ]
    },
    {
      "cell_type": "code",
      "metadata": {
        "id": "C9xjYQrEKoYC",
        "colab": {
          "base_uri": "https://localhost:8080/",
          "height": 490
        },
        "outputId": "16c5e3fb-3cc8-4d50-db14-586e5c0f52d9"
      },
      "source": [
        "#查看年齡與艙等分布\n",
        "g = sns.catplot(y=\"Age\",x=\"Title\",hue=\"Pclass\", data=combined_df, kind=\"box\", size = 8)\n",
        "g.fig.set_figwidth(12)\n",
        "g.fig.set_figheight(6)"
      ],
      "execution_count": null,
      "outputs": [
        {
          "output_type": "stream",
          "text": [
            "/usr/local/lib/python3.6/dist-packages/seaborn/categorical.py:3692: UserWarning: The `size` parameter has been renamed to `height`; please update your code.\n",
            "  warnings.warn(msg, UserWarning)\n"
          ],
          "name": "stderr"
        },
        {
          "output_type": "display_data",
          "data": {
            "image/png": "[encoded data removed]",
            "text/plain": [
              "<Figure size 864x432 with 1 Axes>"
            ]
          },
          "metadata": {
            "tags": [],
            "needs_background": "light"
          }
        }
      ]
    },
    {
      "cell_type": "code",
      "metadata": {
        "id": "qq_BOsujKoYE",
        "colab": {
          "base_uri": "https://localhost:8080/",
          "height": 504
        },
        "outputId": "e4edb141-2a21-4785-d54a-223c14428435"
      },
      "source": [
        "#使用describe敘述統計\n",
        "combined_df.groupby([\"Title\", \"Pclass\"])[\"Age\"].describe() "
      ],
      "execution_count": null,
      "outputs": [
        {
          "output_type": "execute_result",
          "data": {
            "text/html": [
              "<div>\n",
              "<style scoped>\n",
              "    .dataframe tbody tr th:only-of-type {\n",
              "        vertical-align: middle;\n",
              "    }\n",
              "\n",
              "    .dataframe tbody tr th {\n",
              "        vertical-align: top;\n",
              "    }\n",
              "\n",
              "    .dataframe thead th {\n",
              "        text-align: right;\n",
              "    }\n",
              "</style>\n",
              "<table border=\"1\" class=\"dataframe\">\n",
              "  <thead>\n",
              "    <tr style=\"text-align: right;\">\n",
              "      <th></th>\n",
              "      <th></th>\n",
              "      <th>count</th>\n",
              "      <th>mean</th>\n",
              "      <th>std</th>\n",
              "      <th>min</th>\n",
              "      <th>25%</th>\n",
              "      <th>50%</th>\n",
              "      <th>75%</th>\n",
              "      <th>max</th>\n",
              "    </tr>\n",
              "    <tr>\n",
              "      <th>Title</th>\n",
              "      <th>Pclass</th>\n",
              "      <th></th>\n",
              "      <th></th>\n",
              "      <th></th>\n",
              "      <th></th>\n",
              "      <th></th>\n",
              "      <th></th>\n",
              "      <th></th>\n",
              "      <th></th>\n",
              "    </tr>\n",
              "  </thead>\n",
              "  <tbody>\n",
              "    <tr>\n",
              "      <th rowspan=\"3\" valign=\"top\">Master</th>\n",
              "      <th>1</th>\n",
              "      <td>5.0</td>\n",
              "      <td>6.984000</td>\n",
              "      <td>4.974061</td>\n",
              "      <td>0.92</td>\n",
              "      <td>4.000</td>\n",
              "      <td>6.0</td>\n",
              "      <td>11.00</td>\n",
              "      <td>13.0</td>\n",
              "    </tr>\n",
              "    <tr>\n",
              "      <th>2</th>\n",
              "      <td>11.0</td>\n",
              "      <td>2.757273</td>\n",
              "      <td>2.723942</td>\n",
              "      <td>0.67</td>\n",
              "      <td>0.915</td>\n",
              "      <td>2.0</td>\n",
              "      <td>3.00</td>\n",
              "      <td>8.0</td>\n",
              "    </tr>\n",
              "    <tr>\n",
              "      <th>3</th>\n",
              "      <td>37.0</td>\n",
              "      <td>6.090000</td>\n",
              "      <td>4.152566</td>\n",
              "      <td>0.33</td>\n",
              "      <td>2.000</td>\n",
              "      <td>6.0</td>\n",
              "      <td>9.00</td>\n",
              "      <td>14.5</td>\n",
              "    </tr>\n",
              "    <tr>\n",
              "      <th rowspan=\"3\" valign=\"top\">Miss</th>\n",
              "      <th>1</th>\n",
              "      <td>62.0</td>\n",
              "      <td>30.032258</td>\n",
              "      <td>11.460506</td>\n",
              "      <td>2.00</td>\n",
              "      <td>22.000</td>\n",
              "      <td>30.0</td>\n",
              "      <td>36.00</td>\n",
              "      <td>63.0</td>\n",
              "    </tr>\n",
              "    <tr>\n",
              "      <th>2</th>\n",
              "      <td>48.0</td>\n",
              "      <td>20.717083</td>\n",
              "      <td>12.207963</td>\n",
              "      <td>0.92</td>\n",
              "      <td>12.000</td>\n",
              "      <td>20.0</td>\n",
              "      <td>28.50</td>\n",
              "      <td>50.0</td>\n",
              "    </tr>\n",
              "    <tr>\n",
              "      <th>3</th>\n",
              "      <td>103.0</td>\n",
              "      <td>17.360874</td>\n",
              "      <td>9.935434</td>\n",
              "      <td>0.17</td>\n",
              "      <td>9.000</td>\n",
              "      <td>18.0</td>\n",
              "      <td>23.00</td>\n",
              "      <td>45.0</td>\n",
              "    </tr>\n",
              "    <tr>\n",
              "      <th rowspan=\"3\" valign=\"top\">Mr</th>\n",
              "      <th>1</th>\n",
              "      <td>132.0</td>\n",
              "      <td>41.450758</td>\n",
              "      <td>13.489020</td>\n",
              "      <td>17.00</td>\n",
              "      <td>30.000</td>\n",
              "      <td>41.5</td>\n",
              "      <td>50.00</td>\n",
              "      <td>80.0</td>\n",
              "    </tr>\n",
              "    <tr>\n",
              "      <th>2</th>\n",
              "      <td>137.0</td>\n",
              "      <td>32.346715</td>\n",
              "      <td>11.862038</td>\n",
              "      <td>14.00</td>\n",
              "      <td>24.000</td>\n",
              "      <td>30.0</td>\n",
              "      <td>38.00</td>\n",
              "      <td>70.0</td>\n",
              "    </tr>\n",
              "    <tr>\n",
              "      <th>3</th>\n",
              "      <td>312.0</td>\n",
              "      <td>28.318910</td>\n",
              "      <td>9.907858</td>\n",
              "      <td>11.00</td>\n",
              "      <td>21.000</td>\n",
              "      <td>26.0</td>\n",
              "      <td>33.00</td>\n",
              "      <td>74.0</td>\n",
              "    </tr>\n",
              "    <tr>\n",
              "      <th rowspan=\"3\" valign=\"top\">Mrs</th>\n",
              "      <th>1</th>\n",
              "      <td>68.0</td>\n",
              "      <td>43.279412</td>\n",
              "      <td>13.941076</td>\n",
              "      <td>17.00</td>\n",
              "      <td>35.000</td>\n",
              "      <td>45.0</td>\n",
              "      <td>53.25</td>\n",
              "      <td>76.0</td>\n",
              "    </tr>\n",
              "    <tr>\n",
              "      <th>2</th>\n",
              "      <td>55.0</td>\n",
              "      <td>33.418182</td>\n",
              "      <td>10.422005</td>\n",
              "      <td>14.00</td>\n",
              "      <td>25.500</td>\n",
              "      <td>30.0</td>\n",
              "      <td>40.50</td>\n",
              "      <td>60.0</td>\n",
              "    </tr>\n",
              "    <tr>\n",
              "      <th>3</th>\n",
              "      <td>49.0</td>\n",
              "      <td>32.326531</td>\n",
              "      <td>10.194745</td>\n",
              "      <td>15.00</td>\n",
              "      <td>26.000</td>\n",
              "      <td>31.0</td>\n",
              "      <td>39.00</td>\n",
              "      <td>63.0</td>\n",
              "    </tr>\n",
              "    <tr>\n",
              "      <th rowspan=\"2\" valign=\"top\">Rare</th>\n",
              "      <th>1</th>\n",
              "      <td>17.0</td>\n",
              "      <td>47.647059</td>\n",
              "      <td>9.727160</td>\n",
              "      <td>32.00</td>\n",
              "      <td>40.000</td>\n",
              "      <td>49.0</td>\n",
              "      <td>53.00</td>\n",
              "      <td>70.0</td>\n",
              "    </tr>\n",
              "    <tr>\n",
              "      <th>2</th>\n",
              "      <td>10.0</td>\n",
              "      <td>40.700000</td>\n",
              "      <td>12.927576</td>\n",
              "      <td>23.00</td>\n",
              "      <td>28.500</td>\n",
              "      <td>41.5</td>\n",
              "      <td>53.25</td>\n",
              "      <td>57.0</td>\n",
              "    </tr>\n",
              "  </tbody>\n",
              "</table>\n",
              "</div>"
            ],
            "text/plain": [
              "               count       mean        std    min     25%   50%    75%   max\n",
              "Title  Pclass                                                               \n",
              "Master 1         5.0   6.984000   4.974061   0.92   4.000   6.0  11.00  13.0\n",
              "       2        11.0   2.757273   2.723942   0.67   0.915   2.0   3.00   8.0\n",
              "       3        37.0   6.090000   4.152566   0.33   2.000   6.0   9.00  14.5\n",
              "Miss   1        62.0  30.032258  11.460506   2.00  22.000  30.0  36.00  63.0\n",
              "       2        48.0  20.717083  12.207963   0.92  12.000  20.0  28.50  50.0\n",
              "       3       103.0  17.360874   9.935434   0.17   9.000  18.0  23.00  45.0\n",
              "Mr     1       132.0  41.450758  13.489020  17.00  30.000  41.5  50.00  80.0\n",
              "       2       137.0  32.346715  11.862038  14.00  24.000  30.0  38.00  70.0\n",
              "       3       312.0  28.318910   9.907858  11.00  21.000  26.0  33.00  74.0\n",
              "Mrs    1        68.0  43.279412  13.941076  17.00  35.000  45.0  53.25  76.0\n",
              "       2        55.0  33.418182  10.422005  14.00  25.500  30.0  40.50  60.0\n",
              "       3        49.0  32.326531  10.194745  15.00  26.000  31.0  39.00  63.0\n",
              "Rare   1        17.0  47.647059   9.727160  32.00  40.000  49.0  53.00  70.0\n",
              "       2        10.0  40.700000  12.927576  23.00  28.500  41.5  53.25  57.0"
            ]
          },
          "metadata": {
            "tags": []
          },
          "execution_count": 24
        }
      ]
    },
    {
      "cell_type": "code",
      "metadata": {
        "id": "8iR-500WKoYG"
      },
      "source": [
        "\n",
        "combined_df.loc[(combined_df['Age'].isnull()) & (combined_df['Title']=='Master') & (combined_df['Pclass']==1),'Age'] = 11\n",
        "combined_df.loc[(combined_df['Age'].isnull()) & (combined_df['Title']=='Master') & (combined_df['Pclass']==2),'Age'] = 3\n",
        "combined_df.loc[(combined_df['Age'].isnull()) & (combined_df['Title']=='Master') & (combined_df['Pclass']==3),'Age'] = 9\n",
        "\n",
        "combined_df.loc[(combined_df['Age'].isnull()) & (combined_df['Title']=='Miss') & (combined_df['Pclass']==1),'Age'] = 36\n",
        "combined_df.loc[(combined_df['Age'].isnull()) & (combined_df['Title']=='Miss') & (combined_df['Pclass']==2),'Age'] = 28.5\n",
        "combined_df.loc[(combined_df['Age'].isnull()) & (combined_df['Title']=='Miss') & (combined_df['Pclass']==3),'Age'] = 23\n",
        "\n",
        "combined_df.loc[(combined_df['Age'].isnull()) & (combined_df['Title']=='Mr') & (combined_df['Pclass']==1),'Age'] = 50\n",
        "combined_df.loc[(combined_df['Age'].isnull()) & (combined_df['Title']=='Mr') & (combined_df['Pclass']==2),'Age'] = 38\n",
        "combined_df.loc[(combined_df['Age'].isnull()) & (combined_df['Title']=='Mr') & (combined_df['Pclass']==3),'Age'] = 33\n",
        "\n",
        "combined_df.loc[(combined_df['Age'].isnull()) & (combined_df['Title']=='Mrs') & (combined_df['Pclass']==1),'Age'] = 53.25\n",
        "combined_df.loc[(combined_df['Age'].isnull()) & (combined_df['Title']=='Mrs') & (combined_df['Pclass']==2),'Age'] = 40.5\n",
        "combined_df.loc[(combined_df['Age'].isnull()) & (combined_df['Title']=='Mrs') & (combined_df['Pclass']==3),'Age'] = 39\n",
        "\n",
        "combined_df.loc[(combined_df['Age'].isnull()) & (combined_df['Title']=='Rare') & (combined_df['Pclass']==1),'Age'] = 53\n",
        "combined_df.loc[(combined_df['Age'].isnull()) & (combined_df['Title']=='Rare') & (combined_df['Pclass']==2),'Age'] = 53.25"
      ],
      "execution_count": null,
      "outputs": []
    },
    {
      "cell_type": "code",
      "metadata": {
        "id": "6M_XkZKvKoYI",
        "colab": {
          "base_uri": "https://localhost:8080/",
          "height": 314
        },
        "outputId": "df42baf7-2228-45e6-a27b-0419dc33cce8"
      },
      "source": [
        "'''\n",
        "觀察特徵(與倖存關聯性高的變數)\n",
        "\n",
        "'''\n",
        "#gender:\n",
        "data = combined_df.loc[combined_df['Survived'].notnull()]\n",
        "sns.countplot(x='Sex', hue='Survived', data = data)\n",
        "plt.title('Gender Distribution - Survived vs Not-survived', fontsize = 14)\n",
        "#女性生還率明顯高於男性,可做為特徵"
      ],
      "execution_count": null,
      "outputs": [
        {
          "output_type": "execute_result",
          "data": {
            "text/plain": [
              "Text(0.5, 1.0, 'Gender Distribution - Survived vs Not-survived')"
            ]
          },
          "metadata": {
            "tags": []
          },
          "execution_count": 26
        },
        {
          "output_type": "display_data",
          "data": {
            "image/png": "[encoded data removed]",
            "text/plain": [
              "<Figure size 432x288 with 1 Axes>"
            ]
          },
          "metadata": {
            "tags": [],
            "needs_background": "light"
          }
        }
      ]
    },
    {
      "cell_type": "code",
      "metadata": {
        "id": "oDG4Gv3-KoYK",
        "colab": {
          "base_uri": "https://localhost:8080/",
          "height": 311
        },
        "outputId": "c4800979-17b9-445e-f987-bc7e13a31f26"
      },
      "source": [
        "#使用不同出發地分析性別是否為一個顯著的特徵\n",
        "g = sns.catplot(x='Pclass', y='Survived', hue='Sex', data=data, kind='bar', ci=None, col='Embarked')\n",
        "g = g.set_ylabels('Survival Probability')\n",
        "g.fig.set_figwidth(12)\n",
        "g.fig.set_figheight(4)\n",
        "#不論何處出發,女性皆有較高的生還率\n",
        "#疑問:由Q出發為何沒有1/2艙男性生還"
      ],
      "execution_count": null,
      "outputs": [
        {
          "output_type": "display_data",
          "data": {
            "image/png": "[encoded data removed]",
            "text/plain": [
              "<Figure size 864x288 with 3 Axes>"
            ]
          },
          "metadata": {
            "tags": [],
            "needs_background": "light"
          }
        }
      ]
    },
    {
      "cell_type": "code",
      "metadata": {
        "id": "7H0-bwZCKoYL",
        "colab": {
          "base_uri": "https://localhost:8080/",
          "height": 297
        },
        "outputId": "74e5125d-e00a-4f66-a119-f0b9fbadfa48"
      },
      "source": [
        "#展開Q地出發的資料\n",
        "sns.countplot(x='Pclass', hue='Sex', data=data[data['Embarked']=='Q'])\n",
        "#在Q地登船的1/2艙乘客很少,(樣本個體小)沒有男性存活無法作為異常情況的推斷,表示性別能作為良好的特徵"
      ],
      "execution_count": null,
      "outputs": [
        {
          "output_type": "execute_result",
          "data": {
            "text/plain": [
              "<matplotlib.axes._subplots.AxesSubplot at 0x7f53a3eada90>"
            ]
          },
          "metadata": {
            "tags": []
          },
          "execution_count": 28
        },
        {
          "output_type": "display_data",
          "data": {
            "image/png": "[encoded data removed]",
            "text/plain": [
              "<Figure size 432x288 with 1 Axes>"
            ]
          },
          "metadata": {
            "tags": [],
            "needs_background": "light"
          }
        }
      ]
    },
    {
      "cell_type": "code",
      "metadata": {
        "id": "5j7I1_SsKoYN",
        "colab": {
          "base_uri": "https://localhost:8080/",
          "height": 550
        },
        "outputId": "306fa14f-4a54-43c8-f674-23965c17ddb3"
      },
      "source": [
        "#P Class:\n",
        "fig, ax = plt.subplots(1 ,2, figsize=(16,6))\n",
        "sns.catplot(x='Pclass', y='Survived', data=data, kind='bar', ci=None, ax=ax[0])\n",
        "sns.catplot(x='Pclass', y='Survived', hue='Sex', data=data, kind='point', ci=None, ax=ax[1])\n",
        "\n",
        "for i in range(2):\n",
        "    ax[i].set_ylabel('Survival Probability')\n",
        "\n",
        "ax[1].legend(loc='upper right', title='Sex')\n",
        "\n",
        "plt.close(2)\n",
        "plt.close(3)\n",
        "\n",
        "fig.tight_layout()\n",
        "plt.show()\n",
        "#不論性別艙等越高級,生還人數越高\n",
        "#女性生還人數仍遠高各艙等的男性"
      ],
      "execution_count": null,
      "outputs": [
        {
          "output_type": "stream",
          "text": [
            "/usr/local/lib/python3.6/dist-packages/seaborn/categorical.py:3717: UserWarning: catplot is a figure-level function and does not accept target axes. You may wish to try barplot\n",
            "  warnings.warn(msg, UserWarning)\n",
            "/usr/local/lib/python3.6/dist-packages/seaborn/categorical.py:3717: UserWarning: catplot is a figure-level function and does not accept target axes. You may wish to try pointplot\n",
            "  warnings.warn(msg, UserWarning)\n",
            "No handles with labels found to put in legend.\n"
          ],
          "name": "stderr"
        },
        {
          "output_type": "display_data",
          "data": {
            "image/png": "[encoded data removed]",
            "text/plain": [
              "<Figure size 1152x432 with 2 Axes>"
            ]
          },
          "metadata": {
            "tags": [],
            "needs_background": "light"
          }
        }
      ]
    },
    {
      "cell_type": "code",
      "metadata": {
        "id": "AmymmKagKoYO",
        "colab": {
          "base_uri": "https://localhost:8080/",
          "height": 279
        },
        "outputId": "9459b652-da8d-4bfc-859e-a7e7464a3304"
      },
      "source": [
        "#觀察各艙等詳細的生還與死亡人數(以生還率推斷艙等是否一個好的特徵)\n",
        "g = sns.countplot(x='Pclass', hue='Survived', data=data)\n",
        "#結果顯示艙等越高生還率越高,為顯著的特徵"
      ],
      "execution_count": null,
      "outputs": [
        {
          "output_type": "display_data",
          "data": {
            "image/png": "[encoded data removed]",
            "text/plain": [
              "<Figure size 432x288 with 1 Axes>"
            ]
          },
          "metadata": {
            "tags": [],
            "needs_background": "light"
          }
        }
      ]
    },
    {
      "cell_type": "code",
      "metadata": {
        "id": "FqgO57zvKoYQ",
        "colab": {
          "base_uri": "https://localhost:8080/",
          "height": 712
        },
        "outputId": "580ed309-22be-4e14-bf07-e40e8d3b739e"
      },
      "source": [
        "#Age:\n",
        "fig, ax = plt.subplots(3 ,1,figsize=(14,9))\n",
        "sns.catplot(x='Age', y='Embarked', hue='Survived', data=data, orient='h', \n",
        "            kind='violin', dodge=True, cut=0, bw='scott', split = True, ax = ax[0])\n",
        "ax[0].set_title('Age & Embarked vs Survived Comparison')\n",
        "\n",
        "#由各出發地分析年齡層存活率\n",
        "#Q地出發生還者多為青少年與青壯年15-25歲\n",
        "#S與C地出發生還者多為幼童(幼童死者比例低)\n",
        "\n",
        "sns.catplot(x='Age', y='Pclass', hue='Survived', data=data, orient='h', \n",
        "            kind='violin', dodge=True, cut=0, bw=\"scott\", split = True, ax = ax[1])\n",
        "ax[1].set_title('Age & Pclass vs Survived')\n",
        "\n",
        "#由艙等分析年齡層存活率\n",
        "#各艙等的幼兒存活比率都很高\n",
        "\n",
        "sns.catplot(x='Age', y='Sex', hue='Survived', data=data, orient='h', \n",
        "            kind='violin', dodge=True, cut=0, bw='scott', split = True, ax = ax[2])\n",
        "ax[2].set_title('Age & Sex vs Survived')\n",
        "#由性別分析年齡層存活率\n",
        "#男性幼兒存活比率高於女性幼兒,而50歲以上女性存活比率高於男性\n",
        "\n",
        "plt.close(2)\n",
        "plt.close(3)\n",
        "plt.close(4)\n",
        "fig.tight_layout()\n",
        "plt.show()"
      ],
      "execution_count": null,
      "outputs": [
        {
          "output_type": "stream",
          "text": [
            "/usr/local/lib/python3.6/dist-packages/seaborn/categorical.py:3717: UserWarning: catplot is a figure-level function and does not accept target axes. You may wish to try violinplot\n",
            "  warnings.warn(msg, UserWarning)\n"
          ],
          "name": "stderr"
        },
        {
          "output_type": "display_data",
          "data": {
            "image/png": "[encoded data removed]",
            "text/plain": [
              "<Figure size 1008x648 with 3 Axes>"
            ]
          },
          "metadata": {
            "tags": [],
            "needs_background": "light"
          }
        }
      ]
    },
    {
      "cell_type": "code",
      "metadata": {
        "id": "x5jKtGGpKoYR",
        "colab": {
          "base_uri": "https://localhost:8080/",
          "height": 369
        },
        "outputId": "c597d9fa-ef06-48d0-95cd-da2952fb5980"
      },
      "source": [
        "#各艙等與年齡皆有顯著特徵,將數據以艙等切割成小段分析\n",
        "combined_df['Age_class'] = ''\n",
        "combined_df.loc[combined_df['Age'] <= 15, 'Age_class'] = 0 #各艙等與年齡皆有顯著特徵,將數據以艙等切割成小段分析\n",
        "combined_df.loc[(combined_df['Age'] > 15) & (combined_df['Age'] <= 25), 'Age_class'] = 1\n",
        "combined_df.loc[(combined_df['Age'] > 25) & (combined_df['Age'] <= 35), 'Age_class'] = 2\n",
        "combined_df.loc[(combined_df['Age'] > 35) & (combined_df['Age'] <= 45), 'Age_class'] = 3\n",
        "combined_df.loc[(combined_df['Age'] > 45) & (combined_df['Age'] <= 55), 'Age_class'] = 4\n",
        "combined_df.loc[combined_df['Age'] > 55, 'Age_class'] = 5\n",
        "\n",
        "sns.catplot('Age_class','Survived', data=combined_df, col='Pclass', kind='point' )\n",
        "plt.show()\n",
        "#各艙等的15歲下幼童有最高的存活率\n",
        "#各艙等都具有年齡越大存活率越低的情況,年齡可能是一個好的特徵"
      ],
      "execution_count": null,
      "outputs": [
        {
          "output_type": "display_data",
          "data": {
            "image/png": "[encoded data removed]",
            "text/plain": [
              "<Figure size 1080x360 with 3 Axes>"
            ]
          },
          "metadata": {
            "tags": [],
            "needs_background": "light"
          }
        }
      ]
    },
    {
      "cell_type": "code",
      "metadata": {
        "id": "V17jHq7iKoYT",
        "colab": {
          "base_uri": "https://localhost:8080/",
          "height": 838
        },
        "outputId": "5e1cb88e-fbd5-4407-d666-842105eb3c64"
      },
      "source": [
        "#Deck:\n",
        "data = combined_df[combined_df[\"Survived\"].notnull()]\n",
        "fig, ax = plt.subplots(2 ,2, figsize=(16,10))\n",
        "#查看甲板位置與生還率的關係(B/C/D甲板生還率特別高,甲板位置可能是顯著的特徵)\n",
        "sns.catplot(x='Deck', y='Survived', data=data, kind='bar', ci=None, ax=ax[0,0])\n",
        "#查看甲板不同性別生還的比率(各甲板女性生還率皆遠高過男性,A/B/D甲板甚至有100%的生還率)\n",
        "sns.catplot(x='Deck', y='Survived', hue='Sex', data=data, kind='bar', ci=None, ax=ax[0,1])\n",
        "#1與2艙等的乘客生還率明顯高於3艙乘客生還率\n",
        "sns.catplot(x='Deck', y='Survived', hue='Pclass', data=data, kind='bar', ci=None, ax=ax[1,0])\n",
        "#即使在同地點出發,B/C/D甲板仍有更高的生還率\n",
        "sns.catplot(x='Deck', y='Survived', hue='Embarked', data=data, kind='bar', ci=None, ax=ax[1,1])\n",
        "\n",
        "#左到右進行繪圖,i j為橫軸縱軸的概念\n",
        "for i in range(2):\n",
        "    for j in range(2):\n",
        "        ax[i,j].set_ylabel('Survival Probability')\n",
        "\n",
        "ax[0,1].legend(loc='upper left', title='Sex')\n",
        "ax[1,0].legend(loc='upper right', title='Pclass')\n",
        "ax[1,1].legend(loc='upper left', title='Embarked')\n",
        "plt.close(2)\n",
        "plt.close(3)\n",
        "plt.close(4)\n",
        "plt.close(5)\n",
        "fig.tight_layout()\n",
        "plt.show()\n"
      ],
      "execution_count": null,
      "outputs": [
        {
          "output_type": "stream",
          "text": [
            "/usr/local/lib/python3.6/dist-packages/seaborn/categorical.py:3717: UserWarning: catplot is a figure-level function and does not accept target axes. You may wish to try barplot\n",
            "  warnings.warn(msg, UserWarning)\n",
            "No handles with labels found to put in legend.\n",
            "No handles with labels found to put in legend.\n",
            "No handles with labels found to put in legend.\n"
          ],
          "name": "stderr"
        },
        {
          "output_type": "display_data",
          "data": {
            "image/png": "[encoded data removed]",
            "text/plain": [
              "<Figure size 1152x720 with 4 Axes>"
            ]
          },
          "metadata": {
            "tags": [],
            "needs_background": "light"
          }
        }
      ]
    },
    {
      "cell_type": "code",
      "metadata": {
        "id": "pqw1dZasKoYU",
        "colab": {
          "base_uri": "https://localhost:8080/",
          "height": 532
        },
        "outputId": "92653f9a-727a-42f4-a19a-7fbd1b1cceb2"
      },
      "source": [
        "#SibSp and Parch:\n",
        "data = combined_df[combined_df[\"Survived\"].notnull()]\n",
        "fig, ax = plt.subplots(1 ,2, figsize=(16,6))\n",
        "#查看兄弟姊妹數與生還率的關係,可以看到兄弟姊妹越多生還率呈現遞減\n",
        "sns.catplot(x='SibSp', y='Survived', data=data, kind='point', ax=ax[0])\n",
        "#查看家庭人數與生還率的關係,家庭人數為3的小家庭生還率最高\n",
        "sns.catplot(x='Parch', y='Survived', data=data, kind='point', ax=ax[1])\n",
        "\n",
        "for i in range(2):\n",
        "    ax[i].set_ylabel('Survival Probability')\n",
        "\n",
        "plt.close(2)\n",
        "plt.close(3)\n",
        "fig.tight_layout()\n",
        "plt.show()"
      ],
      "execution_count": null,
      "outputs": [
        {
          "output_type": "stream",
          "text": [
            "/usr/local/lib/python3.6/dist-packages/seaborn/categorical.py:3717: UserWarning: catplot is a figure-level function and does not accept target axes. You may wish to try pointplot\n",
            "  warnings.warn(msg, UserWarning)\n",
            "/usr/local/lib/python3.6/dist-packages/seaborn/categorical.py:3717: UserWarning: catplot is a figure-level function and does not accept target axes. You may wish to try pointplot\n",
            "  warnings.warn(msg, UserWarning)\n"
          ],
          "name": "stderr"
        },
        {
          "output_type": "display_data",
          "data": {
            "image/png": "[encoded data removed]",
            "text/plain": [
              "<Figure size 1152x432 with 2 Axes>"
            ]
          },
          "metadata": {
            "tags": [],
            "needs_background": "light"
          }
        }
      ]
    },
    {
      "cell_type": "code",
      "metadata": {
        "id": "WwRp4WVYKoYV",
        "colab": {
          "base_uri": "https://localhost:8080/",
          "height": 308
        },
        "outputId": "1b5a1cb4-21b0-4265-d89f-aa3e022c1bed"
      },
      "source": [
        "#創建新變量 Total_family=Parch+SibSp\n",
        "combined_df['Total_family'] = combined_df['Parch'] + combined_df['SibSp'] + 1\n",
        "data = combined_df[combined_df['Survived'].notnull()]\n",
        "g = sns.catplot(x='Total_family', y='Survived', data=data, kind='point')\n",
        "g = g.set_ylabels('Survival Probability')\n",
        "g.fig.set_figwidth(12)\n",
        "g.fig.set_figheight(4)\n",
        "#2/3/4人的家族生還率勝於1人旅行的乘客,獨自旅行的生還率又大於5人以上的家族"
      ],
      "execution_count": null,
      "outputs": [
        {
          "output_type": "display_data",
          "data": {
            "image/png": "[encoded data removed]",
            "text/plain": [
              "<Figure size 864x288 with 1 Axes>"
            ]
          },
          "metadata": {
            "tags": [],
            "needs_background": "light"
          }
        }
      ]
    },
    {
      "cell_type": "code",
      "metadata": {
        "id": "bhOPQetcKoYX"
      },
      "source": [
        "#做類別分類並比較生還率\n",
        "combined_df['Single'] = combined_df['Total_family'].map(lambda x: 1 if x==1 else 0) #使用lambda快速定義函式(語意閉包?)\n",
        "combined_df['Small_family'] = combined_df['Total_family'].map(lambda x: 1 if 2 <= x <=4 else 0)\n",
        "combined_df['Medium_family'] = combined_df['Total_family'].map(lambda x: 1 if 5 <= x <=7 else 0)\n",
        "combined_df['Large_family'] = combined_df['Total_family'].map(lambda x: 1 if 7 < x else 0)\n",
        "data = combined_df[combined_df['Survived'].notnull()]"
      ],
      "execution_count": null,
      "outputs": []
    },
    {
      "cell_type": "code",
      "metadata": {
        "id": "9-QLdYfNKoYY",
        "colab": {
          "base_uri": "https://localhost:8080/",
          "height": 311
        },
        "outputId": "f19ff616-30ad-4a21-e361-925442cc1f2d"
      },
      "source": [
        "#Title:\n",
        "#1/2艙等的Master有100%的生還率,1艙等的Miss/Mrs也有接近100%的生還率\n",
        "g = sns.catplot(x='Pclass',y='Survived', col='Title',data=data, kind='point')\n",
        "g.fig.set_figwidth(16)\n",
        "g.fig.set_figheight(4)"
      ],
      "execution_count": null,
      "outputs": [
        {
          "output_type": "display_data",
          "data": {
            "image/png": "[encoded data removed]",
            "text/plain": [
              "<Figure size 1152x288 with 5 Axes>"
            ]
          },
          "metadata": {
            "tags": [],
            "needs_background": "light"
          }
        }
      ]
    },
    {
      "cell_type": "code",
      "metadata": {
        "id": "kOMZBuVHKoYa",
        "colab": {
          "base_uri": "https://localhost:8080/",
          "height": 710
        },
        "outputId": "e4e815af-9b52-494e-ba16-a969c4692561"
      },
      "source": [
        "#Fare:\n",
        "#1艙等票價明顯高於2/3艙,生還率也高出許多 (2/3艙票價則沒有明顯的差距)\n",
        "g1 = sns.catplot(x='Fare', y='Pclass', hue='Survived', data=data, kind='box', orient=\"h\")\n",
        "g1.fig.set_figwidth(20)\n",
        "#Q地出發的票價較低,而C地的生還率最高\n",
        "g2 = sns.catplot(x='Fare', y='Embarked', hue='Survived', data=data, kind='box', orient=\"h\")\n",
        "g2.fig.set_figwidth(20)"
      ],
      "execution_count": null,
      "outputs": [
        {
          "output_type": "display_data",
          "data": {
            "image/png": "[encoded data removed]",
            "text/plain": [
              "<Figure size 1440x360 with 1 Axes>"
            ]
          },
          "metadata": {
            "tags": [],
            "needs_background": "light"
          }
        },
        {
          "output_type": "display_data",
          "data": {
            "image/png": "[encoded data removed]",
            "text/plain": [
              "<Figure size 1440x360 with 1 Axes>"
            ]
          },
          "metadata": {
            "tags": [],
            "needs_background": "light"
          }
        }
      ]
    },
    {
      "cell_type": "code",
      "metadata": {
        "id": "zuRsz1dWKoYb",
        "colab": {
          "base_uri": "https://localhost:8080/",
          "height": 893
        },
        "outputId": "a8c2ff82-ce95-401c-fd1b-9cb41f03860c"
      },
      "source": [
        "#Embarked:\n",
        "#大部分的人從S地出發\n",
        "fig, ax = plt.subplots(2,2,figsize=(20,15))\n",
        "sns.countplot(y='Embarked', data=data, ax=ax[0,0])\n",
        "ax[0,0].set_title('# Passengers')\n",
        "#而S地出發多為男性(人數約為2倍女性乘客)\n",
        "sns.countplot(y='Embarked', hue='Sex', data=data, ax=ax[0,1])\n",
        "ax[0,1].set_title('Gender vs Embarked')\n",
        "#C地出發的生還率較高,S地較低(可能因為男性乘客很多,降低生還率)\n",
        "sns.countplot(y='Embarked', hue='Survived', data=data, ax=ax[1,0])\n",
        "ax[1,0].set_title('Embarked vs Survived')\n",
        "#S地出發的以3倉乘客為主,也可能是造成生還率降低的原因\n",
        "#C地出發的以1倉乘客為主,可能造成生還率上升\n",
        "sns.countplot(y='Embarked', hue='Pclass', data=data, ax=ax[1,1])\n",
        "ax[1,1].set_title('Embarked vs Pclass')\n",
        "\n",
        "for i in range(2):\n",
        "    for j in range(2):\n",
        "        ax[i,j].set_xlabel('Number of passengers')\n",
        "\n",
        "plt.show()"
      ],
      "execution_count": null,
      "outputs": [
        {
          "output_type": "display_data",
          "data": {
            "image/png": "[encoded data removed]",
            "text/plain": [
              "<Figure size 1440x1080 with 4 Axes>"
            ]
          },
          "metadata": {
            "tags": [],
            "needs_background": "light"
          }
        }
      ]
    },
    {
      "cell_type": "code",
      "metadata": {
        "id": "K05e0d59KoYd",
        "colab": {
          "base_uri": "https://localhost:8080/",
          "height": 308
        },
        "outputId": "52488755-c159-4d8f-cb24-e7d558228c34"
      },
      "source": [
        "#Married vs not married:\n",
        "combined_df['Is_Married'] = 0\n",
        "combined_df['Is_Married'] = combined_df['Title'].map(lambda x: 1 if x=='Mrs' else 0)#以Mrs作為已婚女性的判別索引\n",
        "\n",
        "data = combined_df.loc[combined_df['Survived'].notnull()]\n",
        "g = sns.catplot(x='Pclass',y='Survived', hue='Is_Married', data=data, kind='point')\n",
        "g.fig.set_figwidth(16)\n",
        "g.fig.set_figheight(4)\n",
        "#可見各艙等內已婚女性的生還率都高於均值"
      ],
      "execution_count": null,
      "outputs": [
        {
          "output_type": "display_data",
          "data": {
            "image/png": "[encoded data removed]",
            "text/plain": [
              "<Figure size 1152x288 with 1 Axes>"
            ]
          },
          "metadata": {
            "tags": [],
            "needs_background": "light"
          }
        }
      ]
    },
    {
      "cell_type": "code",
      "metadata": {
        "id": "QshKm-N7KoYg",
        "colab": {
          "base_uri": "https://localhost:8080/",
          "height": 284
        },
        "outputId": "1273f6d1-f705-40b2-c374-1313836273a7"
      },
      "source": [
        "print(combined_df)\n",
        "'''\n",
        "網站中沒提供Fare_groups程式碼,執行後續get_dummies會ERROR\n",
        "如下\n",
        "'''"
      ],
      "execution_count": null,
      "outputs": [
        {
          "output_type": "stream",
          "text": [
            "       Age Cabin Embarked  ...  Medium_family Large_family  Is_Married\n",
            "0     22.0   NaN        S  ...              0            0           0\n",
            "1     38.0   C85        C  ...              0            0           1\n",
            "2     26.0   NaN        S  ...              0            0           0\n",
            "3     35.0  C123        S  ...              0            0           1\n",
            "4     35.0   NaN        S  ...              0            0           0\n",
            "...    ...   ...      ...  ...            ...          ...         ...\n",
            "1304  33.0   NaN        S  ...              0            0           0\n",
            "1305  39.0  C105        C  ...              0            0           0\n",
            "1306  38.5   NaN        S  ...              0            0           0\n",
            "1307  33.0   NaN        S  ...              0            0           0\n",
            "1308   9.0   NaN        C  ...              0            0           0\n",
            "\n",
            "[1309 rows x 21 columns]\n"
          ],
          "name": "stdout"
        },
        {
          "output_type": "execute_result",
          "data": {
            "application/vnd.google.colaboratory.intrinsic+json": {
              "type": "string"
            },
            "text/plain": [
              "'\\n網站中沒提供Fare_groups程式碼,執行後續get_dummies會ERROR\\n如下\\n'"
            ]
          },
          "metadata": {
            "tags": []
          },
          "execution_count": 41
        }
      ]
    },
    {
      "cell_type": "code",
      "metadata": {
        "id": "8yGkEVZUKoYi"
      },
      "source": [
        "#先刪去用不到的特徵\n",
        "combined_df.drop(columns=['PassengerId', 'Name', 'Ticket', 'Cabin', 'Total_family', 'Age', 'Fare'], inplace=True)"
      ],
      "execution_count": null,
      "outputs": []
    },
    {
      "cell_type": "markdown",
      "metadata": {
        "id": "2AQipzV_fd-I"
      },
      "source": [
        "#分割train & test data\n"
      ]
    },
    {
      "cell_type": "code",
      "metadata": {
        "id": "Wg09LnjjKoYk"
      },
      "source": [
        "#分割訓練/測試資料\n",
        "'''\n",
        "並使用StandardScaler做標準化數據\n",
        "StandardScaler\n",
        ".fit_transfrom:\n",
        "計算訓練集的平均值和標準差,並標準化數據(其標準化使用統計z-score的概念)\n",
        "\n",
        ".fit:求出mean,var,max,min...來訓練資料\n",
        ".transfrom:標準化/歸一化\n",
        "'''\n",
        "train = combined_df[combined_df['Survived'].isnull() == False]\n",
        "predict = combined_df[combined_df['Survived'].isnull() == True]\n",
        "predict = predict.drop(columns=['Survived'])\n",
        "from sklearn.preprocessing import StandardScaler\n",
        "\n",
        "X = train.drop(['Survived'], axis = 1)\n",
        "y = train['Survived']\n",
        "\n",
        "X_train, X_test, y_train, y_test = train_test_split(X, y, test_size=0.2, random_state=100)\n",
        "\n",
        "std_sc = StandardScaler()\n",
        "\n",
        "X_train = std_sc.fit_transform(X_train)\n",
        "X_test = std_sc.transform(X_test)\n",
        "\n",
        "#Transform 'submission dataset'\n",
        "predict = std_sc.transform(predict)"
      ],
      "execution_count": null,
      "outputs": []
    },
    {
      "cell_type": "code",
      "metadata": {
        "id": "R5imSvDoKoYm",
        "colab": {
          "base_uri": "https://localhost:8080/",
          "height": 431
        },
        "outputId": "e6d45c28-6696-43b8-cc84-a8583373756a"
      },
      "source": [
        "#使用多種模型計算預測精確度並視覺化\n",
        "'''\n",
        "step1:\n",
        "使用StratifiedKFold將資料分成10份\n",
        "step2:\n",
        "先創建classifiers的空字串,將使用sklearn套件中各種演算法訓練數據append進去\n",
        "\n",
        "LinearSVC:支持向量分類的一種,線性SVM\n",
        "\n",
        "QuadraticDiscriminantAnalysis:二次判別\n",
        "\n",
        "DecisionTreeClassifier:決策樹\n",
        "\n",
        "GaussianNB:高斯分布的貝氏,naive bayes模型的一種,主要分析特徵為數值型態的資料(且常態分布)\n",
        "\n",
        "RandomForestClassifier:隨機森林\n",
        "\n",
        "ExtraTreesClassifier:極限樹(更隨機)\n",
        "\n",
        "GradientBoostingClassifier:梯度增加\n",
        "\n",
        "MLPClassifier:類神經網路的一種\n",
        "\n",
        "KNeighbors:近鄰演算法\n",
        "\n",
        "LogisticRegression:邏輯回歸\n",
        "\n",
        "LinearDiscriminantAnalysis:線性判別分析\n",
        "\n",
        "BaggingClassifier:ensemble learning的其中一個方法\n",
        "#ensemble learning為整合多個weak learner,可提高演算效率與降低成本?\n",
        "\n",
        "SGDClassifier:隨機梯度下降\n",
        "\n",
        "NuSVC:支持向量分類的一種,與SVC很像,但多了一個nu值控制錯誤率(介於0-1)\n",
        "\n",
        "SVC:支持向量分類\n",
        "step3:使用cross_val_score作交叉驗證\n",
        "參數:(estimator:使用的演算法,x:feature,y:label,soring：評分方式,cv：進行幾折的交叉驗證,n_jobs:同時工作的cpu個數,-1為使用所有的cpu)\n",
        "step4:製作一個DataFrame型態的表格放精準度相關資料\n",
        "step5:視覺化上表\n",
        "'''\n",
        "kfold = StratifiedKFold(n_splits=10)\n",
        "\n",
        "random_state = 42\n",
        "classifiers = []\n",
        "\n",
        "classifiers.append(LinearSVC(random_state=random_state))\n",
        "classifiers.append(QuadraticDiscriminantAnalysis())\n",
        "classifiers.append(DecisionTreeClassifier(random_state=random_state))\n",
        "classifiers.append(GaussianNB())\n",
        "classifiers.append(RandomForestClassifier(random_state=random_state))\n",
        "classifiers.append(ExtraTreesClassifier(random_state=random_state))\n",
        "classifiers.append(GradientBoostingClassifier(random_state = random_state))\n",
        "classifiers.append(MLPClassifier(random_state=random_state))\n",
        "classifiers.append(KNeighborsClassifier(n_neighbors=20))\n",
        "classifiers.append(LogisticRegression(random_state=random_state))\n",
        "classifiers.append(LinearDiscriminantAnalysis())\n",
        "classifiers.append(BaggingClassifier(random_state=random_state))\n",
        "classifiers.append(SGDClassifier(loss='log', random_state=random_state))\n",
        "classifiers.append(NuSVC(probability=True, random_state=random_state))\n",
        "classifiers.append(SVC(kernel='linear', probability=True, random_state=random_state))\n",
        "\n",
        "names = []\n",
        "cv_results = []\n",
        "for classifier in classifiers :\n",
        "    names.append(classifier.__class__.__name__)\n",
        "    cv_results.append(cross_val_score(classifier, X_train, y = y_train, scoring = 'accuracy', cv = kfold, n_jobs=20))\n",
        "\n",
        "cv_means = []\n",
        "cv_std = []\n",
        "for cv_result in cv_results:\n",
        "    cv_means.append(cv_result.mean())\n",
        "    cv_std.append(cv_result.std())\n",
        "\n",
        "cv_res = pd.DataFrame(\n",
        "    {'Mean_Accuracy':cv_means, 'Mean_Error':cv_std, 'Algorithm':names}\n",
        ").sort_values(by=\"Mean_Accuracy\", ascending=False)\n",
        "\n",
        "g = sns.catplot('Mean_Accuracy', 'Algorithm', kind='bar', data=cv_res, orient='h',**{'xerr':cv_std})\n",
        "g.fig.set_figwidth(20)\n",
        "g.fig.set_figheight(6)"
      ],
      "execution_count": null,
      "outputs": [
        {
          "output_type": "display_data",
          "data": {
            "image/png": "[encoded data removed]",
            "text/plain": [
              "<Figure size 1440x432 with 1 Axes>"
            ]
          },
          "metadata": {
            "tags": [],
            "needs_background": "light"
          }
        }
      ]
    },
    {
      "cell_type": "code",
      "metadata": {
        "id": "wJsCahrOKoYo",
        "colab": {
          "base_uri": "https://localhost:8080/",
          "height": 464
        },
        "outputId": "7793e41c-aec4-4def-a870-12d2979a879f"
      },
      "source": [
        "#自訂義plot_confusion函數\n",
        "'''\n",
        "格式化繪製的圖表型態\n",
        "'''\n",
        "def plot_confusion(predictions):\n",
        "    y_pred = predictions\n",
        "    cm = confusion_matrix(y_true=y_test, y_pred=y_pred)\n",
        "    ax= plt.subplot()\n",
        "    sns.heatmap(cm, annot=True, ax = ax, fmt = 'g');\n",
        "\n",
        "    ax.set_xlabel('Predicted', fontsize=14)\n",
        "    ax.xaxis.set_label_position('bottom') \n",
        "    ax.xaxis.set_ticklabels(['Not Survived', 'Survived'], fontsize = 12)\n",
        "    ax.set_ylabel('True', fontsize=14)\n",
        "    ax.yaxis.set_ticklabels(['Not Survived', 'Survived'], fontsize = 12)\n",
        "    plt.show()\n",
        "\n",
        "# Gboost\n",
        "'''\n",
        "梯度增加法\n",
        "'''\n",
        "Gboost = GradientBoostingClassifier(random_state=random_state)\n",
        "Gboost_params = {\n",
        "    'loss' : ['deviance'],\n",
        "    'n_estimators' : [8, 10, 16, 20, 100, 200, 300],\n",
        "    'learning_rate': [0.1, 0.05, 0.01],\n",
        "    'max_depth': [3, 4, 5, 6, 7, 8],\n",
        "    'min_samples_leaf': [100, 150],\n",
        "    'max_features': [0.3, 0.1] \n",
        "}\n",
        "\n",
        "import matplotlib.pyplot \n",
        "Gboost_gs = GridSearchCV(Gboost, param_grid=Gboost_params, refit=True, cv=kfold, scoring='accuracy', n_jobs=20)\n",
        "Gboost_gs.fit(X_train,y_train)\n",
        "best_Gboost = Gboost_gs.best_estimator_\n",
        "predictions = best_Gboost.predict(X_test)\n",
        "print('The accuracy of the Gradient Boosting: ', accuracy_score(y_test, predictions))\n",
        "print(classification_report(y_test, predictions))\n",
        "plot_confusion(predictions)"
      ],
      "execution_count": null,
      "outputs": [
        {
          "output_type": "stream",
          "text": [
            "The accuracy of the Gradient Boosting:  0.8324022346368715\n",
            "              precision    recall  f1-score   support\n",
            "\n",
            "         0.0       0.82      0.91      0.86       104\n",
            "         1.0       0.86      0.72      0.78        75\n",
            "\n",
            "    accuracy                           0.83       179\n",
            "   macro avg       0.84      0.82      0.82       179\n",
            "weighted avg       0.83      0.83      0.83       179\n",
            "\n"
          ],
          "name": "stdout"
        },
        {
          "output_type": "display_data",
          "data": {
            "image/png": "[encoded data removed]",
            "text/plain": [
              "<Figure size 432x288 with 2 Axes>"
            ]
          },
          "metadata": {
            "tags": [],
            "needs_background": "light"
          }
        }
      ]
    },
    {
      "cell_type": "code",
      "metadata": {
        "id": "QRdvE7DuKoYp",
        "colab": {
          "base_uri": "https://localhost:8080/",
          "height": 464
        },
        "outputId": "9bb1e50c-0bb7-4c44-97d2-d4423a274c19"
      },
      "source": [
        "# Knc\n",
        "'''\n",
        "近鄰分析\n",
        "'''\n",
        "Knc = KNeighborsClassifier()\n",
        "Knc_params = {\n",
        "    'n_neighbors' : np.linspace(1, 100, 100).astype('int'),\n",
        "    'weights' : ['uniform', 'distance'],\n",
        "    'algorithm' : ['auto', 'ball_tree']\n",
        "}\n",
        "Knc_gs = GridSearchCV(Knc, param_grid=Knc_params, refit=True, cv=kfold, scoring='accuracy', n_jobs=20)\n",
        "Knc_gs.fit(X_train,y_train)\n",
        "best_Knc = Knc_gs.best_estimator_\n",
        "predictions = best_Knc.predict(X_test)\n",
        "print('The accuracy of the KNeighbors: ', accuracy_score(y_test, predictions))\n",
        "print(classification_report(y_test, predictions))\n",
        "plot_confusion(predictions)"
      ],
      "execution_count": null,
      "outputs": [
        {
          "output_type": "stream",
          "text": [
            "The accuracy of the KNeighbors:  0.8268156424581006\n",
            "              precision    recall  f1-score   support\n",
            "\n",
            "         0.0       0.82      0.90      0.86       104\n",
            "         1.0       0.84      0.72      0.78        75\n",
            "\n",
            "    accuracy                           0.83       179\n",
            "   macro avg       0.83      0.81      0.82       179\n",
            "weighted avg       0.83      0.83      0.82       179\n",
            "\n"
          ],
          "name": "stdout"
        },
        {
          "output_type": "display_data",
          "data": {
            "image/png": "[encoded data removed]",
            "text/plain": [
              "<Figure size 432x288 with 2 Axes>"
            ]
          },
          "metadata": {
            "tags": [],
            "needs_background": "light"
          }
        }
      ]
    },
    {
      "cell_type": "code",
      "metadata": {
        "id": "GVaY9BuXKoYr",
        "colab": {
          "base_uri": "https://localhost:8080/",
          "height": 464
        },
        "outputId": "475b516a-642c-454e-c4d2-1696cbb9efbd"
      },
      "source": [
        "#ExtraTrees \n",
        "'''\n",
        "極限樹\n",
        "'''\n",
        "Ext_t = ExtraTreesClassifier(random_state=random_state)\n",
        "Ext_t_params = {\n",
        "    'max_depth' : [1, 2, 3],\n",
        "    'max_features' : ['sqrt'],\n",
        "    'min_samples_split' : [2, 3, 10],\n",
        "    'min_samples_leaf' : [1, 3, 10],\n",
        "    'bootstrap' : [False],\n",
        "    'n_estimators' :[10, 20, 100, 300, 400, 500],\n",
        "    'criterion' : ['gini', 'entropy']\n",
        "}\n",
        "Ext_t_gs = GridSearchCV(Ext_t, param_grid=Ext_t_params, refit=True, cv=kfold, scoring='accuracy', n_jobs=20)\n",
        "Ext_t_gs.fit(X_train,y_train)\n",
        "best_Ext_t = Ext_t_gs.best_estimator_\n",
        "predictions = best_Ext_t.predict(X_test)\n",
        "print('The accuracy of the Extra Trees: ', accuracy_score(y_test, predictions))\n",
        "print(classification_report(y_test, predictions))\n",
        "plot_confusion(predictions)"
      ],
      "execution_count": null,
      "outputs": [
        {
          "output_type": "stream",
          "text": [
            "The accuracy of the Extra Trees:  0.8268156424581006\n",
            "              precision    recall  f1-score   support\n",
            "\n",
            "         0.0       0.82      0.89      0.86       104\n",
            "         1.0       0.83      0.73      0.78        75\n",
            "\n",
            "    accuracy                           0.83       179\n",
            "   macro avg       0.83      0.81      0.82       179\n",
            "weighted avg       0.83      0.83      0.82       179\n",
            "\n"
          ],
          "name": "stdout"
        },
        {
          "output_type": "display_data",
          "data": {
            "image/png": "[encoded data removed]",
            "text/plain": [
              "<Figure size 432x288 with 2 Axes>"
            ]
          },
          "metadata": {
            "tags": [],
            "needs_background": "light"
          }
        }
      ]
    },
    {
      "cell_type": "code",
      "metadata": {
        "id": "aZEu4EffKoYs",
        "colab": {
          "base_uri": "https://localhost:8080/",
          "height": 464
        },
        "outputId": "229e7c0a-c001-41b8-897a-24ce4ee8a872"
      },
      "source": [
        "# Random Forest\n",
        "'''\n",
        "隨機森林\n",
        "'''\n",
        "Rf = RandomForestClassifier(random_state=random_state)\n",
        "Rf_params = {\n",
        "    'max_depth': [5, 6, 7, 8],\n",
        "    'max_features': [3, 4,'sqrt'],\n",
        "    'min_samples_split': [4, 5, 6],\n",
        "    'min_samples_leaf': [2, 3],\n",
        "    'n_estimators' :[5, 10, 20, 80, 100, 200, 300],\n",
        "    'criterion': ['gini']\n",
        "}\n",
        "Rf_gs = GridSearchCV(Rf, param_grid=Rf_params, refit=True, cv=kfold, scoring='accuracy', n_jobs=20)\n",
        "Rf_gs.fit(X_train,y_train)\n",
        "best_Rf = Rf_gs.best_estimator_\n",
        "predictions = best_Rf.predict(X_test)\n",
        "print('The accuracy of the Random Forest: ', accuracy_score(y_test, predictions))\n",
        "print(classification_report(y_test, predictions))\n",
        "plot_confusion(predictions)\n"
      ],
      "execution_count": null,
      "outputs": [
        {
          "output_type": "stream",
          "text": [
            "The accuracy of the Random Forest:  0.8156424581005587\n",
            "              precision    recall  f1-score   support\n",
            "\n",
            "         0.0       0.81      0.89      0.85       104\n",
            "         1.0       0.83      0.71      0.76        75\n",
            "\n",
            "    accuracy                           0.82       179\n",
            "   macro avg       0.82      0.80      0.81       179\n",
            "weighted avg       0.82      0.82      0.81       179\n",
            "\n"
          ],
          "name": "stdout"
        },
        {
          "output_type": "display_data",
          "data": {
            "image/png": "[encoded data removed]",
            "text/plain": [
              "<Figure size 432x288 with 2 Axes>"
            ]
          },
          "metadata": {
            "tags": [],
            "needs_background": "light"
          }
        }
      ]
    },
    {
      "cell_type": "code",
      "metadata": {
        "id": "yplRR3ITKoYt",
        "colab": {
          "base_uri": "https://localhost:8080/",
          "height": 464
        },
        "outputId": "a72c9363-d9bd-4b8f-ea18-019b6c3fcf7e"
      },
      "source": [
        "#Ensemble:\n",
        "'''\n",
        "使用VotingClassifier函數ensemble以上4個演算法,提高精確度(其實應該要用5個避免平手,但其他方法有點跑不動@ @)\n",
        "參數:( estimators:使用的演算法,voting:有soft跟hard兩種,soft為平均每一個算法而hard為多數決, n_jobs:同時工作的cpu數)\n",
        "'''\n",
        "voting_clf = VotingClassifier(\n",
        "    estimators = [\n",
        "        ('Gboost', best_Gboost),\n",
        "        ('Rf', best_Rf),\n",
        "        ('Ext_t', best_Ext_t),\n",
        "        ('Knc', best_Knc),\n",
        "    ], voting='hard', n_jobs=20)\n",
        "voting = voting_clf.fit(X_train, y_train)\n",
        "predictions = voting.predict(X_test)\n",
        "print('The accuracy of the Ensemble: ', accuracy_score(y_test, predictions))\n",
        "print(classification_report(y_test, predictions))\n",
        "plot_confusion(predictions)\n",
        "#使用ensemble後精度比上述四種單獨算法都更高(84%)"
      ],
      "execution_count": null,
      "outputs": [
        {
          "output_type": "stream",
          "text": [
            "The accuracy of the Ensemble:  0.8324022346368715\n",
            "              precision    recall  f1-score   support\n",
            "\n",
            "         0.0       0.82      0.91      0.86       104\n",
            "         1.0       0.86      0.72      0.78        75\n",
            "\n",
            "    accuracy                           0.83       179\n",
            "   macro avg       0.84      0.82      0.82       179\n",
            "weighted avg       0.83      0.83      0.83       179\n",
            "\n"
          ],
          "name": "stdout"
        },
        {
          "output_type": "display_data",
          "data": {
            "image/png": "[encoded data removed]",
            "text/plain": [
              "<Figure size 432x288 with 2 Axes>"
            ]
          },
          "metadata": {
            "tags": [],
            "needs_background": "light"
          }
        }
      ]
    },
    {
      "cell_type": "code",
      "metadata": {
        "id": "OzE-PHIZKoYv"
      },
      "source": [
        "#將最終結果另存一個預測csv檔\n",
        "# predict and save prediction to csv for submission\n",
        "test_survived = pd.Series(voting.predict(predict).astype(int), name=\"Survived\")\n",
        "id_ = test_data['PassengerId']\n",
        "results = pd.concat([id_, test_survived], axis=1)\n",
        "results.to_csv(\"sub_prediction.csv\",index=False)"
      ],
      "execution_count": null,
      "outputs": []
    },
    {
      "cell_type": "code",
      "metadata": {
        "id": "qWVhUjYWKoYy"
      },
      "source": [
        ""
      ],
      "execution_count": null,
      "outputs": []
    }
  ]
}
